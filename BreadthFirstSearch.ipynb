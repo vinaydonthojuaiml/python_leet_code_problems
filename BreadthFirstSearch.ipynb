{
  "nbformat": 4,
  "nbformat_minor": 0,
  "metadata": {
    "colab": {
      "provenance": [],
      "authorship_tag": "ABX9TyNB98eu2rUfoyrzUX/xjhfi",
      "include_colab_link": true
    },
    "kernelspec": {
      "name": "python3",
      "display_name": "Python 3"
    },
    "language_info": {
      "name": "python"
    }
  },
  "cells": [
    {
      "cell_type": "markdown",
      "metadata": {
        "id": "view-in-github",
        "colab_type": "text"
      },
      "source": [
        "<a href=\"https://colab.research.google.com/github/vinaydonthojuaiml/python_leet_code_problems/blob/main/BreadthFirstSearch.ipynb\" target=\"_parent\"><img src=\"https://colab.research.google.com/assets/colab-badge.svg\" alt=\"Open In Colab\"/></a>"
      ]
    },
    {
      "cell_type": "code",
      "execution_count": 14,
      "metadata": {
        "colab": {
          "base_uri": "https://localhost:8080/"
        },
        "id": "EICFNdTjplEb",
        "outputId": "04abc219-2292-4557-dd41-da40eb7c6c1f"
      },
      "outputs": [
        {
          "output_type": "stream",
          "name": "stdout",
          "text": [
            "True\n",
            "CurrenNode:  <__main__.Node object at 0x7a4a181b6110>\n",
            "[9, 4, 20, 1, 6, 15, 170]\n",
            "[9, 4, 20, 1, 6, 15, 170]\n"
          ]
        }
      ],
      "source": [
        "class Node:\n",
        "  def __init__(self,val):\n",
        "    self.val = val\n",
        "    self.left = None\n",
        "    self.right = None\n",
        "\n",
        "class BinarySearchTree:\n",
        "  def __init__(self):\n",
        "    self.root = None\n",
        "\n",
        "  def insert(self,val):\n",
        "    new_node = Node(val)\n",
        "    if self.root == None:\n",
        "      self.root = new_node\n",
        "      return\n",
        "    temp = self.root\n",
        "    while True:\n",
        "      if new_node.val < temp.val:\n",
        "        if temp.left == None:\n",
        "          temp.left = new_node\n",
        "          break\n",
        "        else:\n",
        "          temp = temp.left\n",
        "      if new_node.val > temp.val:\n",
        "        if temp.right == None:\n",
        "          temp.right = new_node\n",
        "          break\n",
        "        else:\n",
        "          temp = temp.right\n",
        "\n",
        "  def lookup(self,val):\n",
        "    temp = self.root\n",
        "    while True:\n",
        "      if temp.val == val:\n",
        "        return True\n",
        "      elif temp == None:\n",
        "        return False\n",
        "      elif val < temp.val:\n",
        "        temp = temp.left\n",
        "      elif val > temp.val:\n",
        "        temp = temp.right\n",
        "\n",
        "\n",
        "\n",
        "  def breadthFirstSearch(self):\n",
        "    currentNode = self.root\n",
        "    print(\"CurrenNode: \",currentNode)\n",
        "    myList = []\n",
        "    queue = []\n",
        "    queue.append(currentNode)\n",
        "    while len(queue) > 0:\n",
        "      currentNode = queue[0]\n",
        "      del queue[0]\n",
        "      myList.append(currentNode.val)\n",
        "      if currentNode.left:\n",
        "        queue.append(currentNode.left)\n",
        "      if currentNode.right:\n",
        "        queue.append(currentNode.right)\n",
        "    return myList\n",
        "\n",
        "  def breadthFirstSearchRecursive(self,queue,myList):\n",
        "    if len(queue) == 0:\n",
        "      return myList\n",
        "    currentNode = queue[0]\n",
        "    del queue[0]\n",
        "    myList.append(currentNode.val)\n",
        "    if(currentNode.left):\n",
        "      queue.append(currentNode.left)\n",
        "    if(currentNode.right):\n",
        "      queue.append(currentNode.right)\n",
        "\n",
        "    return self.breadthFirstSearchRecursive(queue,myList)\n",
        "\n",
        "tree = BinarySearchTree()\n",
        "tree.insert(9)\n",
        "tree.insert(4)\n",
        "tree.insert(6)\n",
        "tree.insert(20)\n",
        "tree.insert(170)\n",
        "tree.insert(15)\n",
        "tree.insert(1)\n",
        "\n",
        "x = tree.lookup(170)\n",
        "print(x)\n",
        "print(tree.breadthFirstSearch())\n",
        "print(tree.breadthFirstSearchRecursive([tree.root],[]))"
      ]
    },
    {
      "cell_type": "code",
      "source": [],
      "metadata": {
        "id": "KbVcRLKKtDSe"
      },
      "execution_count": null,
      "outputs": []
    }
  ]
}