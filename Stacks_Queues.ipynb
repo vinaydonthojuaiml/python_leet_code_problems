{
  "nbformat": 4,
  "nbformat_minor": 0,
  "metadata": {
    "colab": {
      "provenance": [],
      "authorship_tag": "ABX9TyPwqzFmPcewVm2ZiAUBaZo/",
      "include_colab_link": true
    },
    "kernelspec": {
      "name": "python3",
      "display_name": "Python 3"
    },
    "language_info": {
      "name": "python"
    }
  },
  "cells": [
    {
      "cell_type": "markdown",
      "metadata": {
        "id": "view-in-github",
        "colab_type": "text"
      },
      "source": [
        "<a href=\"https://colab.research.google.com/github/vinaydonthojuaiml/python_leet_code_problems/blob/main/Stacks_Queues.ipynb\" target=\"_parent\"><img src=\"https://colab.research.google.com/assets/colab-badge.svg\" alt=\"Open In Colab\"/></a>"
      ]
    },
    {
      "cell_type": "code",
      "execution_count": 25,
      "metadata": {
        "colab": {
          "base_uri": "https://localhost:8080/"
        },
        "id": "4mD6HSpq6SKu",
        "outputId": "40cfdf89-9a90-47f6-c3ae-fce3dae75ec6"
      },
      "outputs": [
        {
          "output_type": "stream",
          "name": "stdout",
          "text": [
            "apple -> \n",
            "facebook -> \n",
            "microsoft -> \n",
            "google -> \n",
            "apple\n",
            "apple\n",
            "facebook\n",
            "microsoft\n",
            "google -> \n",
            "google\n"
          ]
        }
      ],
      "source": [
        "#Stacks using Linked List\n",
        "\n",
        "class Node:\n",
        "  def __init__(self,data):\n",
        "    self.data = data\n",
        "    self.next = None\n",
        "\n",
        "class Stack:\n",
        "  def __init__(self):\n",
        "    self.top = None\n",
        "    self.bottom = None\n",
        "    self.length = 0\n",
        "\n",
        "  def peek(self):\n",
        "    return self.top.data\n",
        "\n",
        "  def push(self,data):\n",
        "    newNode = Node(data)\n",
        "    if self.bottom == None:\n",
        "      self.bottom = newNode\n",
        "      self.top = self.bottom\n",
        "      self.length = 1\n",
        "    else:\n",
        "      newNode.next = self.top\n",
        "      self.top = newNode\n",
        "      self.length +=1\n",
        "\n",
        "  def pop(self):\n",
        "    if not self.top:\n",
        "      return None\n",
        "    else:\n",
        "      holdingpointer = self.top\n",
        "      self.top = self.top.next\n",
        "      self.length -=1\n",
        "      if self.length == 0:\n",
        "        self.bottom = None\n",
        "      return holdingpointer.data\n",
        "\n",
        "  def printt(self):\n",
        "    temp = self.top\n",
        "    while temp != None:\n",
        "      print(temp.data, end = \" -> \")\n",
        "      temp = temp.next\n",
        "      print()\n",
        "\n",
        "\n",
        "\n",
        "\n",
        "mystack = Stack()\n",
        "mystack.push('google')\n",
        "mystack.push('microsoft')\n",
        "mystack.push('facebook')\n",
        "mystack.push('apple')\n",
        "mystack.printt()\n",
        "x = mystack.peek()\n",
        "print(x)\n",
        "y = mystack.pop()\n",
        "print(y)\n",
        "y = mystack.pop()\n",
        "print(y)\n",
        "y = mystack.pop()\n",
        "print(y)\n",
        "# y = mystack.pop()\n",
        "# print(y)\n",
        "mystack.printt()\n",
        "z = mystack.peek()\n",
        "print(z)\n",
        "\n",
        "\n",
        "\n",
        "\n",
        "\n"
      ]
    },
    {
      "cell_type": "code",
      "source": [],
      "metadata": {
        "id": "-oF6Q_Q58Yuf"
      },
      "execution_count": 11,
      "outputs": []
    }
  ]
}