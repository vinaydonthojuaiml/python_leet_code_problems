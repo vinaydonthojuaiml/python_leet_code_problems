{
  "nbformat": 4,
  "nbformat_minor": 0,
  "metadata": {
    "colab": {
      "provenance": [],
      "authorship_tag": "ABX9TyNKOkDB4mFJPfIPwYC2Doi9",
      "include_colab_link": true
    },
    "kernelspec": {
      "name": "python3",
      "display_name": "Python 3"
    },
    "language_info": {
      "name": "python"
    }
  },
  "cells": [
    {
      "cell_type": "markdown",
      "metadata": {
        "id": "view-in-github",
        "colab_type": "text"
      },
      "source": [
        "<a href=\"https://colab.research.google.com/github/vinaydonthojuaiml/python_leet_code_problems/blob/main/Stacks_Queues.ipynb\" target=\"_parent\"><img src=\"https://colab.research.google.com/assets/colab-badge.svg\" alt=\"Open In Colab\"/></a>"
      ]
    },
    {
      "cell_type": "code",
      "execution_count": null,
      "metadata": {
        "colab": {
          "base_uri": "https://localhost:8080/"
        },
        "id": "4mD6HSpq6SKu",
        "outputId": "40cfdf89-9a90-47f6-c3ae-fce3dae75ec6"
      },
      "outputs": [
        {
          "output_type": "stream",
          "name": "stdout",
          "text": [
            "apple -> \n",
            "facebook -> \n",
            "microsoft -> \n",
            "google -> \n",
            "apple\n",
            "apple\n",
            "facebook\n",
            "microsoft\n",
            "google -> \n",
            "google\n"
          ]
        }
      ],
      "source": [
        "#Stacks using Linked List\n",
        "\n",
        "class Node:\n",
        "  def __init__(self,data):\n",
        "    self.data = data\n",
        "    self.next = None\n",
        "\n",
        "class Stack:\n",
        "  def __init__(self):\n",
        "    self.top = None\n",
        "    self.bottom = None\n",
        "    self.length = 0\n",
        "\n",
        "  def peek(self):\n",
        "    return self.top.data\n",
        "\n",
        "  def push(self,data):\n",
        "    newNode = Node(data)\n",
        "    if self.bottom == None:\n",
        "      self.bottom = newNode\n",
        "      self.top = self.bottom\n",
        "      self.length = 1\n",
        "    else:\n",
        "      newNode.next = self.top\n",
        "      self.top = newNode\n",
        "      self.length +=1\n",
        "\n",
        "  def pop(self):\n",
        "    if not self.top:\n",
        "      return None\n",
        "    else:\n",
        "      holdingpointer = self.top\n",
        "      self.top = self.top.next\n",
        "      self.length -=1\n",
        "      if self.length == 0:\n",
        "        self.bottom = None\n",
        "      return holdingpointer.data\n",
        "\n",
        "  def printt(self):\n",
        "    temp = self.top\n",
        "    while temp != None:\n",
        "      print(temp.data, end = \" -> \")\n",
        "      temp = temp.next\n",
        "      print()\n",
        "\n",
        "\n",
        "\n",
        "\n",
        "mystack = Stack()\n",
        "mystack.push('google')\n",
        "mystack.push('microsoft')\n",
        "mystack.push('facebook')\n",
        "mystack.push('apple')\n",
        "mystack.printt()\n",
        "x = mystack.peek()\n",
        "print(x)\n",
        "y = mystack.pop()\n",
        "print(y)\n",
        "y = mystack.pop()\n",
        "print(y)\n",
        "y = mystack.pop()\n",
        "print(y)\n",
        "# y = mystack.pop()\n",
        "# print(y)\n",
        "mystack.printt()\n",
        "z = mystack.peek()\n",
        "print(z)\n",
        "\n",
        "\n",
        "\n",
        "\n",
        "\n"
      ]
    },
    {
      "cell_type": "code",
      "source": [
        "# Stacks Using Arrays\n",
        "\n",
        "class Stack:\n",
        "  def __init__(self):\n",
        "    self.arr = []\n",
        "    self.length = 0\n",
        "\n",
        "  def __str__(self):\n",
        "    return str(self.__dict__)\n",
        "\n",
        "  def peek(self):\n",
        "    return self.arr[self.length-1]\n",
        "\n",
        "  def push(self,data):\n",
        "    self.arr.append(data)\n",
        "    self.length += 1\n",
        "\n",
        "  def pop(self):\n",
        "    popped_item = self.arr[self.length-1]\n",
        "    del self.arr[self.length-1]\n",
        "    self.length -= 1\n",
        "    return popped_item\n",
        "\n",
        "  stack = Stack()\n",
        "  stack.push('google')\n",
        "  stack.push('facebook')\n",
        "  stack.push('apple')\n",
        "  print(stack)\n",
        "  x = stack.peek()\n",
        "  print(x)\n",
        "  stack.pop()\n",
        "  print(stack)\n"
      ],
      "metadata": {
        "colab": {
          "base_uri": "https://localhost:8080/"
        },
        "id": "-oF6Q_Q58Yuf",
        "outputId": "a633ad2f-6eaf-4cf0-cb7b-8a646c534c3d"
      },
      "execution_count": null,
      "outputs": [
        {
          "output_type": "stream",
          "name": "stdout",
          "text": [
            "{'arr': ['google', 'facebook', 'apple'], 'length': 3}\n",
            "apple\n",
            "{'arr': ['google', 'facebook'], 'length': 2}\n"
          ]
        }
      ]
    },
    {
      "cell_type": "code",
      "source": [
        "# Queue using LinkedList\n",
        "\n",
        "class Node:\n",
        "\n",
        "  def __init__(self,data):\n",
        "    self.data = data\n",
        "    self.next = None\n",
        "\n",
        "class Queue:\n",
        "\n",
        "  def __init__(self):\n",
        "    self.first = None\n",
        "    self.last = None\n",
        "    self.length = 0\n",
        "\n",
        "  def peek(self):\n",
        "    return self.first.data\n",
        "\n",
        "  def enqueue(self,data):\n",
        "    new_node = Node(data)\n",
        "    if self.first == None:\n",
        "      self.first = new_node\n",
        "      self.last = self.first\n",
        "      self.length += 1\n",
        "    else:\n",
        "      self.last.next = new_node\n",
        "      self.last = new_node\n",
        "      self.length += 1\n",
        "\n",
        "  def dequeue(self):\n",
        "    temp = self.first.next\n",
        "    dequeued_element = self.first\n",
        "    if temp == None:\n",
        "      self.first = None\n",
        "      self.lenght -= 1\n",
        "      return\n",
        "    self.first.next = None\n",
        "    self.first = temp\n",
        "    self.length -= 1\n",
        "\n",
        "\n",
        "\n",
        "queue = Queue()\n",
        "queue.enqueue('Vinay')\n",
        "queue.enqueue(\"Kumar\")\n",
        "queue.enqueue(\"Sachin\")\n",
        "queue.enqueue(\"Arun\")\n",
        "queue.dequeue()\n",
        "x = queue.peek()\n",
        "print(x)\n",
        "\n",
        "\n",
        ""
      ],
      "metadata": {
        "id": "Vt0Cvsp-IocW",
        "colab": {
          "base_uri": "https://localhost:8080/"
        },
        "outputId": "dc90577c-14a9-4351-9a36-d13de8f135d8"
      },
      "execution_count": 12,
      "outputs": [
        {
          "output_type": "stream",
          "name": "stdout",
          "text": [
            "Kumar\n"
          ]
        }
      ]
    },
    {
      "cell_type": "code",
      "source": [],
      "metadata": {
        "id": "XOACHAZpXKFg"
      },
      "execution_count": null,
      "outputs": []
    }
  ]
}