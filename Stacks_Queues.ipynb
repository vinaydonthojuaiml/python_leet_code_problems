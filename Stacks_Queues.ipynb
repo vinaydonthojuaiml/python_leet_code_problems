{
  "nbformat": 4,
  "nbformat_minor": 0,
  "metadata": {
    "colab": {
      "provenance": [],
      "authorship_tag": "ABX9TyMoWZe5N1dbpstDiu48k9G1",
      "include_colab_link": true
    },
    "kernelspec": {
      "name": "python3",
      "display_name": "Python 3"
    },
    "language_info": {
      "name": "python"
    }
  },
  "cells": [
    {
      "cell_type": "markdown",
      "metadata": {
        "id": "view-in-github",
        "colab_type": "text"
      },
      "source": [
        "<a href=\"https://colab.research.google.com/github/vinaydonthojuaiml/python_leet_code_problems/blob/main/Stacks_Queues.ipynb\" target=\"_parent\"><img src=\"https://colab.research.google.com/assets/colab-badge.svg\" alt=\"Open In Colab\"/></a>"
      ]
    },
    {
      "cell_type": "code",
      "execution_count": 12,
      "metadata": {
        "colab": {
          "base_uri": "https://localhost:8080/"
        },
        "id": "4mD6HSpq6SKu",
        "outputId": "70010863-d600-4a2a-9817-6bb46a45df47"
      },
      "outputs": [
        {
          "output_type": "stream",
          "name": "stdout",
          "text": [
            "colab\n",
            "None\n"
          ]
        }
      ],
      "source": [
        "#Stacks using Linked List\n",
        "\n",
        "class Node:\n",
        "  def __init__(self,data):\n",
        "    self.data = data\n",
        "    self.next = None\n",
        "\n",
        "class Stack:\n",
        "  def __init__(self):\n",
        "    self.top = None\n",
        "    self.botton = None\n",
        "    self.length = 0\n",
        "\n",
        "  def peek(self):\n",
        "    return self.top.data\n",
        "\n",
        "  def push(self,data):\n",
        "    newNode = Node(data)\n",
        "    if self.length == 0:\n",
        "      self.top = newNode\n",
        "      self.bottom = newNode\n",
        "    else:\n",
        "      holdingpointer = self.top\n",
        "      self.top = newNode\n",
        "      self.top.next = holdingpointer\n",
        "      self.length +=1\n",
        "\n",
        "  def pop(self):\n",
        "    if not self.top:\n",
        "      return None\n",
        "    else:\n",
        "      holdingpointer = self.top\n",
        "      self.top = self.top.next\n",
        "      self.length -=1\n",
        "      if self.length == 0:\n",
        "        self.bottom = None\n",
        "      return holdingpointer.data\n",
        "\n",
        "\n",
        "\n",
        "\n",
        "mystack = Stack()\n",
        "mystack.push('google')\n",
        "mystack.push('udemy')\n",
        "mystack.push('colab')\n",
        "mystack.peek()\n",
        "y = mystack.pop()\n",
        "print(y)\n",
        "y = mystack.pop()\n",
        "print(y)\n",
        "\n",
        "\n"
      ]
    },
    {
      "cell_type": "code",
      "source": [],
      "metadata": {
        "id": "-oF6Q_Q58Yuf"
      },
      "execution_count": 11,
      "outputs": []
    }
  ]
}