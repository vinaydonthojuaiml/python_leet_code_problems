{
  "nbformat": 4,
  "nbformat_minor": 0,
  "metadata": {
    "colab": {
      "provenance": [],
      "authorship_tag": "ABX9TyMosmFKFdxz7unhpFk/HGE+",
      "include_colab_link": true
    },
    "kernelspec": {
      "name": "python3",
      "display_name": "Python 3"
    },
    "language_info": {
      "name": "python"
    }
  },
  "cells": [
    {
      "cell_type": "markdown",
      "metadata": {
        "id": "view-in-github",
        "colab_type": "text"
      },
      "source": [
        "<a href=\"https://colab.research.google.com/github/vinaydonthojuaiml/python_leet_code_problems/blob/main/Binary_Serach_Tree.ipynb\" target=\"_parent\"><img src=\"https://colab.research.google.com/assets/colab-badge.svg\" alt=\"Open In Colab\"/></a>"
      ]
    },
    {
      "cell_type": "code",
      "execution_count": null,
      "metadata": {
        "id": "dTNMIfrUONcg"
      },
      "outputs": [],
      "source": [
        "#Binary Serach Tree\n",
        "\n",
        "class Node:\n",
        "  def __init__(self, data):\n",
        "    self.data = data\n",
        "    self.left = None\n",
        "    self.right = None\n",
        "\n",
        "class BinaryTree:\n",
        "  def __init__(self):\n",
        "    self.root = None\n",
        "\n",
        "  def insert(self,data):\n",
        "    new_node = Node(data)\n",
        "    if self.root == None:\n",
        "      self.root = new_node\n",
        "      return\n",
        "    else:\n",
        "      current_node = self.root\n",
        "      while True:\n",
        "        if data < current_node.data:\n",
        "          #Left\n",
        "          if current_node.left == None:\n",
        "            current_node.left = new_node\n",
        "            return\n",
        "          else:\n",
        "            current_node = current_node.left\n",
        "        elif data > current_node.data:\n",
        "          #Right\n",
        "          if current_node.right == None:\n",
        "            current_node.right == new_node\n",
        "            return\n",
        "          else:\n",
        "            current_node = current_node.right\n",
        "\n",
        "\n"
      ]
    }
  ]
}