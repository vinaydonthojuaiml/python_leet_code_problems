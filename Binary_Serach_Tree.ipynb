{
  "nbformat": 4,
  "nbformat_minor": 0,
  "metadata": {
    "colab": {
      "provenance": [],
      "authorship_tag": "ABX9TyOF5+hBVLB2bPtumEB1mhwU",
      "include_colab_link": true
    },
    "kernelspec": {
      "name": "python3",
      "display_name": "Python 3"
    },
    "language_info": {
      "name": "python"
    }
  },
  "cells": [
    {
      "cell_type": "markdown",
      "metadata": {
        "id": "view-in-github",
        "colab_type": "text"
      },
      "source": [
        "<a href=\"https://colab.research.google.com/github/vinaydonthojuaiml/python_leet_code_problems/blob/main/Binary_Serach_Tree.ipynb\" target=\"_parent\"><img src=\"https://colab.research.google.com/assets/colab-badge.svg\" alt=\"Open In Colab\"/></a>"
      ]
    },
    {
      "cell_type": "code",
      "execution_count": 19,
      "metadata": {
        "colab": {
          "base_uri": "https://localhost:8080/"
        },
        "id": "dTNMIfrUONcg",
        "outputId": "3993d42e-e45a-4bd4-9133-976ab37c684e"
      },
      "outputs": [
        {
          "output_type": "stream",
          "name": "stdout",
          "text": [
            "True\n",
            "True\n",
            "True\n",
            "True\n",
            "True\n",
            "True\n",
            "1\n",
            "6\n",
            "9\n",
            "15\n",
            "20\n",
            "170\n"
          ]
        }
      ],
      "source": [
        "#Binary Serach Tree\n",
        "\n",
        "class Node:\n",
        "  def __init__(self, data):\n",
        "    self.data = data\n",
        "    self.left = None\n",
        "    self.right = None\n",
        "\n",
        "class BinarySearchTree:\n",
        "  def __init__(self):\n",
        "    self.root = None\n",
        "\n",
        "  def lookup(self,data):\n",
        "    current_node = self.root\n",
        "    while True:\n",
        "      if current_node == None:\n",
        "        return False\n",
        "      if current_node.data == data:\n",
        "        return True\n",
        "      elif data < current_node.data:\n",
        "        current_node = current_node.left\n",
        "      else:\n",
        "        current_node = current_node.right\n",
        "\n",
        "  def print_tree(self):\n",
        "    if self.root != None:\n",
        "      self.printt(self.root)\n",
        "\n",
        "  #Inorder Traversal (We get sorted order of elements in tree)\n",
        "\n",
        "  def printt(self,current_node):\n",
        "    if current_node != None:\n",
        "      self.printt(current_node.left)\n",
        "      print(str(current_node.data))\n",
        "      self.printt(current_node.right)\n",
        "\n",
        "  def insert(self,data):\n",
        "    new_node = Node(data)\n",
        "    if self.root == None:\n",
        "      self.root = new_node\n",
        "      return\n",
        "    else:\n",
        "      current_node = self.root\n",
        "      while True:\n",
        "        if data < current_node.data:\n",
        "          #Left\n",
        "          if current_node.left == None:\n",
        "            current_node.left = new_node\n",
        "            return\n",
        "          else:\n",
        "            current_node = current_node.left\n",
        "        elif data > current_node.data:\n",
        "          #Right\n",
        "          if current_node.right == None:\n",
        "            current_node.right = new_node\n",
        "            return\n",
        "          else:\n",
        "            current_node = current_node.right\n",
        "\n",
        "\n",
        "\n",
        "bst = BinarySearchTree()\n",
        "bst.insert(9)\n",
        "bst.insert(1)\n",
        "bst.insert(6)\n",
        "bst.insert(20)\n",
        "bst.insert(15)\n",
        "bst.insert(170)\n",
        "x = bst.lookup(9)\n",
        "print(x)\n",
        "x = bst.lookup(1)\n",
        "print(x)\n",
        "x = bst.lookup(6)\n",
        "print(x)\n",
        "x = bst.lookup(20)\n",
        "print(x)\n",
        "x = bst.lookup(15)\n",
        "print(x)\n",
        "x = bst.lookup(170)\n",
        "print(x)\n",
        "bst.print_tree()\n",
        "\n"
      ]
    },
    {
      "cell_type": "code",
      "source": [],
      "metadata": {
        "id": "5tWxrTo-uUgr"
      },
      "execution_count": null,
      "outputs": []
    }
  ]
}