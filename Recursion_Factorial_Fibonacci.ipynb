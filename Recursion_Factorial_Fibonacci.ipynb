{
  "nbformat": 4,
  "nbformat_minor": 0,
  "metadata": {
    "colab": {
      "provenance": [],
      "authorship_tag": "ABX9TyOYNFM7A7ssxK1Ln5S48ZFV",
      "include_colab_link": true
    },
    "kernelspec": {
      "name": "python3",
      "display_name": "Python 3"
    },
    "language_info": {
      "name": "python"
    }
  },
  "cells": [
    {
      "cell_type": "markdown",
      "metadata": {
        "id": "view-in-github",
        "colab_type": "text"
      },
      "source": [
        "<a href=\"https://colab.research.google.com/github/vinaydonthojuaiml/python_leet_code_problems/blob/main/Recursion_Factorial_Fibonacci.ipynb\" target=\"_parent\"><img src=\"https://colab.research.google.com/assets/colab-badge.svg\" alt=\"Open In Colab\"/></a>"
      ]
    },
    {
      "cell_type": "code",
      "execution_count": 2,
      "metadata": {
        "colab": {
          "base_uri": "https://localhost:8080/"
        },
        "id": "3-O1ElWszQUW",
        "outputId": "139df267-23e9-4980-d3cd-e2fd8e5a536e"
      },
      "outputs": [
        {
          "output_type": "execute_result",
          "data": {
            "text/plain": [
              "720"
            ]
          },
          "metadata": {},
          "execution_count": 2
        }
      ],
      "source": [
        "#Factorial\n",
        "\n",
        "def factorial(number):\n",
        "  if (number == 1):\n",
        "    return 1\n",
        "  return number * factorial(number-1)\n",
        "\n",
        "factorial(6)"
      ]
    },
    {
      "cell_type": "markdown",
      "source": [],
      "metadata": {
        "id": "PFk3i8sK0ck_"
      }
    },
    {
      "cell_type": "code",
      "source": [
        "def factorial_ForLoop(number):\n",
        "  result = 1\n",
        "  for i in range(1,number+1):\n",
        "    result = result * i\n",
        "  return result\n",
        "\n",
        "factorial_ForLoop(5)\n"
      ],
      "metadata": {
        "colab": {
          "base_uri": "https://localhost:8080/"
        },
        "id": "zdJL75IDzqBV",
        "outputId": "03f079e8-8d76-42c2-c0e6-c03ee8259be6"
      },
      "execution_count": 7,
      "outputs": [
        {
          "output_type": "execute_result",
          "data": {
            "text/plain": [
              "120"
            ]
          },
          "metadata": {},
          "execution_count": 7
        }
      ]
    },
    {
      "cell_type": "code",
      "source": [
        "#Fibnocci\n",
        "\n",
        "def FibnocciIterative(num): #O(n)\n",
        "  if num < 2:\n",
        "    return num\n",
        "\n",
        "  a = 0\n",
        "  b = 1\n",
        "  total = 0\n",
        "\n",
        "  for i in range(num-1):\n",
        "    total = a+b\n",
        "    a = b\n",
        "    b = total\n",
        "  return total\n",
        "\n",
        "print([FibnocciIterative(i) for i in range(10)])\n"
      ],
      "metadata": {
        "colab": {
          "base_uri": "https://localhost:8080/"
        },
        "id": "QUacEJlI0IWm",
        "outputId": "0e4362d1-62f6-4ea2-f526-a379cb5734f9"
      },
      "execution_count": 10,
      "outputs": [
        {
          "output_type": "stream",
          "name": "stdout",
          "text": [
            "[0, 1, 1, 2, 3, 5, 8, 13, 21, 34]\n"
          ]
        }
      ]
    },
    {
      "cell_type": "code",
      "source": [
        "def FibnocciRecursive(num):\n",
        "    # O(2^n)\n",
        "    if num < 2:\n",
        "      return num\n",
        "    return FibnocciRecursive(num-1) + FibnocciRecursive(num-2)\n",
        "\n",
        "FibnocciRecursive(4)\n",
        "#print([FibnocciRecursive(i) for i in range(10)])\n"
      ],
      "metadata": {
        "colab": {
          "base_uri": "https://localhost:8080/"
        },
        "id": "LrAZLXn65mKM",
        "outputId": "eb5ea330-6f80-409a-cae6-021ff2291a83"
      },
      "execution_count": 13,
      "outputs": [
        {
          "output_type": "execute_result",
          "data": {
            "text/plain": [
              "3"
            ]
          },
          "metadata": {},
          "execution_count": 13
        }
      ]
    },
    {
      "cell_type": "code",
      "source": [
        "def fibonacci(n):\n",
        "  fib_sequence = [0,1]\n",
        "\n",
        "  for i in range(2,n):\n",
        "    nex_fib = fib_sequence[-1] + fib_sequence[-2]\n",
        "    fib_sequence.append(nex_fib)\n",
        "  return fib_sequence\n",
        "\n",
        "n_terms = 10\n",
        "result = fibonacci(n_terms)\n",
        "print(f\"The first {n_terms} Fibonacci numbers are: {result}\")"
      ],
      "metadata": {
        "colab": {
          "base_uri": "https://localhost:8080/"
        },
        "id": "uHy7Ft-A8P7p",
        "outputId": "d8c0e93a-df1a-4167-f2c4-08bcf71336d6"
      },
      "execution_count": 14,
      "outputs": [
        {
          "output_type": "stream",
          "name": "stdout",
          "text": [
            "The first 10 Fibonacci numbers are: [0, 1, 1, 2, 3, 5, 8, 13, 21, 34]\n"
          ]
        }
      ]
    },
    {
      "cell_type": "code",
      "source": [],
      "metadata": {
        "id": "UdSs2_K99NjT"
      },
      "execution_count": null,
      "outputs": []
    }
  ]
}