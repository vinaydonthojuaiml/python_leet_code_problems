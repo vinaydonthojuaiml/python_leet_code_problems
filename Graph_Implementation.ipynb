{
  "nbformat": 4,
  "nbformat_minor": 0,
  "metadata": {
    "colab": {
      "provenance": [],
      "authorship_tag": "ABX9TyNCeiXuKp43fvWKMMx/h83E",
      "include_colab_link": true
    },
    "kernelspec": {
      "name": "python3",
      "display_name": "Python 3"
    },
    "language_info": {
      "name": "python"
    }
  },
  "cells": [
    {
      "cell_type": "markdown",
      "metadata": {
        "id": "view-in-github",
        "colab_type": "text"
      },
      "source": [
        "<a href=\"https://colab.research.google.com/github/vinaydonthojuaiml/python_leet_code_problems/blob/main/Graph_Implementation.ipynb\" target=\"_parent\"><img src=\"https://colab.research.google.com/assets/colab-badge.svg\" alt=\"Open In Colab\"/></a>"
      ]
    },
    {
      "cell_type": "code",
      "execution_count": 3,
      "metadata": {
        "colab": {
          "base_uri": "https://localhost:8080/"
        },
        "id": "dRttFAJ1onSW",
        "outputId": "ab0cc5b2-f95e-4faa-edad-12cfba88d46d"
      },
      "outputs": [
        {
          "output_type": "stream",
          "name": "stdout",
          "text": [
            "{'numberofnodes': 8, 'adjacentList': {'0': ['1', '2'], '1': ['3', '2', '0'], '2': ['4', '1', '0'], '3': ['1', '4'], '4': ['3', '2', '5'], '5': ['4', '6'], '6': ['5']}}\n",
            "0-->1 2\n",
            "1-->3 2 0\n",
            "2-->4 1 0\n",
            "3-->1 4\n",
            "4-->3 2 5\n",
            "5-->4 6\n",
            "6-->5\n"
          ]
        }
      ],
      "source": [
        "#Graph Implementation\n",
        "\n",
        "class Graph:\n",
        "  def __init__(self):\n",
        "    self.numberofnodes = 0\n",
        "    self.adjacentList = {}\n",
        "\n",
        "  def __str__(self):\n",
        "    return str(self.__dict__)\n",
        "\n",
        "  def addVertex(self,node):\n",
        "    self.adjacentList[node] = []\n",
        "    self.numberofnodes += 1\n",
        "\n",
        "  def addEdge(self,node1,node2):\n",
        "    self.adjacentList[node1].append(node2)\n",
        "    self.adjacentList[node2].append(node1)\n",
        "\n",
        "  def showConncetion(self):\n",
        "    for vertex, neighbours in self.adjacentList.items():\n",
        "      print(vertex, end = \"-->\")\n",
        "      print(' '.join(neighbours))\n",
        "\n",
        "myGraph = Graph()\n",
        "myGraph.addVertex('0')\n",
        "myGraph.addVertex('0')\n",
        "myGraph.addVertex('1')\n",
        "myGraph.addVertex('2')\n",
        "myGraph.addVertex('3')\n",
        "myGraph.addVertex('4')\n",
        "myGraph.addVertex('5')\n",
        "myGraph.addVertex('6')\n",
        "myGraph.addEdge('3', '1')\n",
        "myGraph.addEdge('3', '4')\n",
        "myGraph.addEdge('4', '2')\n",
        "myGraph.addEdge('4', '5')\n",
        "myGraph.addEdge('1', '2')\n",
        "myGraph.addEdge('1', '0')\n",
        "myGraph.addEdge('0', '2')\n",
        "myGraph.addEdge('6', '5')\n",
        "print(myGraph)\n",
        "myGraph.showConncetion()\n"
      ]
    },
    {
      "cell_type": "code",
      "source": [],
      "metadata": {
        "id": "dimqJS9KpGfK"
      },
      "execution_count": null,
      "outputs": []
    }
  ]
}