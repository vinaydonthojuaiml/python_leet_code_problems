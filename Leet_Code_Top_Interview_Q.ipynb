{
  "nbformat": 4,
  "nbformat_minor": 0,
  "metadata": {
    "colab": {
      "provenance": [],
      "authorship_tag": "ABX9TyNU7x27jE1GH4sqJjs633r0",
      "include_colab_link": true
    },
    "kernelspec": {
      "name": "python3",
      "display_name": "Python 3"
    },
    "language_info": {
      "name": "python"
    }
  },
  "cells": [
    {
      "cell_type": "markdown",
      "metadata": {
        "id": "view-in-github",
        "colab_type": "text"
      },
      "source": [
        "<a href=\"https://colab.research.google.com/github/vinaydonthojuaiml/python_leet_code_problems/blob/main/Leet_Code_Top_Interview_Q.ipynb\" target=\"_parent\"><img src=\"https://colab.research.google.com/assets/colab-badge.svg\" alt=\"Open In Colab\"/></a>"
      ]
    },
    {
      "cell_type": "code",
      "execution_count": 1,
      "metadata": {
        "id": "3_eVAd2Cu2sF"
      },
      "outputs": [],
      "source": [
        "#Two Sum\n",
        "#Solution 1\n",
        "class Solution:\n",
        "    def twoSum(self, nums: List[int], target: int) -> List[int]:\n",
        "      n = len(nums)\n",
        "      for i in range(n-1):\n",
        "        for j in range(i+1,n):\n",
        "          if nums[i] + nums[j] == target:\n",
        "            return [i,j]\n",
        "      return []  # No Solution Found\n",
        "\n",
        "#Solution 2\n",
        "class Solution:\n",
        "    def twoSum(self, nums: List[int], target: int) -> List[int]:\n",
        "      numMap = {}\n",
        "      n = len(nums)\n",
        "\n",
        "      for i in range(n):\n",
        "        complement = target - nums[i]\n",
        "        if complement in numMap:\n",
        "          return [numMap[complement],i]\n",
        "        numMap[nums[i]] = i\n",
        "      return []\n",
        "\n",
        "#Solution 3\n",
        "class Solution:\n",
        "    def twoSum(self, nums: List[int], target: int) -> List[int]:\n",
        "\n",
        "      prevMap = {} # val : index\n",
        "\n",
        "      for i, n in enumerate(nums):\n",
        "        diff = target - n\n",
        "        if diff in prevMap:\n",
        "          return [prevMap[diff], i]\n",
        "        prevMap[n] = i\n",
        "      return\n"
      ]
    },
    {
      "cell_type": "code",
      "source": [],
      "metadata": {
        "id": "1KDrZxmNwLNA"
      },
      "execution_count": null,
      "outputs": []
    }
  ]
}