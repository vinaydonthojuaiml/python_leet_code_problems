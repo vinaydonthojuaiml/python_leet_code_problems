{
  "nbformat": 4,
  "nbformat_minor": 0,
  "metadata": {
    "colab": {
      "provenance": [],
      "authorship_tag": "ABX9TyPQTxhMgU1AldnDvEWDB3ts",
      "include_colab_link": true
    },
    "kernelspec": {
      "name": "python3",
      "display_name": "Python 3"
    },
    "language_info": {
      "name": "python"
    }
  },
  "cells": [
    {
      "cell_type": "markdown",
      "metadata": {
        "id": "view-in-github",
        "colab_type": "text"
      },
      "source": [
        "<a href=\"https://colab.research.google.com/github/vinaydonthojuaiml/python_leet_code_problems/blob/main/MergeSort.ipynb\" target=\"_parent\"><img src=\"https://colab.research.google.com/assets/colab-badge.svg\" alt=\"Open In Colab\"/></a>"
      ]
    },
    {
      "cell_type": "code",
      "execution_count": 1,
      "metadata": {
        "colab": {
          "base_uri": "https://localhost:8080/"
        },
        "id": "CMHjjb3Y-zYu",
        "outputId": "be163701-6218-4d84-ee32-d60f4917dd9e"
      },
      "outputs": [
        {
          "output_type": "stream",
          "name": "stdout",
          "text": [
            "Left [99, 44, 6, 2, 1]\n",
            "Right [5, 63, 87, 283, 4, 0]\n",
            "Left [99, 44]\n",
            "Right [6, 2, 1]\n",
            "Left [99]\n",
            "Right [44]\n",
            "[99] [44]\n",
            "[44, 99]\n",
            "Left [6]\n",
            "Right [2, 1]\n",
            "Left [2]\n",
            "Right [1]\n",
            "[2] [1]\n",
            "[1, 2]\n",
            "[6] [1, 2]\n",
            "[1, 2, 6]\n",
            "[44, 99] [1, 2, 6]\n",
            "[1, 2, 6, 44, 99]\n",
            "Left [5, 63, 87]\n",
            "Right [283, 4, 0]\n",
            "Left [5]\n",
            "Right [63, 87]\n",
            "Left [63]\n",
            "Right [87]\n",
            "[63] [87]\n",
            "[63, 87]\n",
            "[5] [63, 87]\n",
            "[5, 63, 87]\n",
            "Left [283]\n",
            "Right [4, 0]\n",
            "Left [4]\n",
            "Right [0]\n",
            "[4] [0]\n",
            "[0, 4]\n",
            "[283] [0, 4]\n",
            "[0, 4, 283]\n",
            "[5, 63, 87] [0, 4, 283]\n",
            "[0, 4, 5, 63, 87, 283]\n",
            "[1, 2, 6, 44, 99] [0, 4, 5, 63, 87, 283]\n",
            "[0, 1, 2, 4, 5, 6, 44, 63, 87, 99, 283]\n",
            "[0, 1, 2, 4, 5, 6, 44, 63, 87, 99, 283]\n"
          ]
        }
      ],
      "source": [
        "#Merge Sort\n",
        "\n",
        "arr = [99,44,6,2,1,5,63,87,283,4,0]\n",
        "\n",
        "def mergesort(arr):\n",
        "  if len(arr) == 1:\n",
        "    return arr\n",
        "  length = len(arr)\n",
        "  mid = length // 2\n",
        "  left = arr[:mid]\n",
        "  right = arr[mid:]\n",
        "  print('Left {}'.format(left))\n",
        "  print('Right {}'.format(right))\n",
        "\n",
        "  return merge(mergesort(left),mergesort(right))\n",
        "\n",
        "def merge(left,right):\n",
        "  result = []\n",
        "  leftindex = 0\n",
        "  rightindex = 0\n",
        "  while leftindex < len(left) and rightindex < len(right):\n",
        "    if left[leftindex] < right[rightindex]:\n",
        "      result.append(left[leftindex])\n",
        "      leftindex += 1\n",
        "    else:\n",
        "      result.append(right[rightindex])\n",
        "      rightindex +=1\n",
        "  print(left,right)\n",
        "  print(result + left[leftindex:] + right[rightindex:])\n",
        "  return result + left[leftindex:] + right[rightindex:]\n",
        "\n",
        "x = mergesort(arr)\n",
        "print(x)"
      ]
    },
    {
      "cell_type": "code",
      "source": [],
      "metadata": {
        "id": "V8oJzcQ6Awkf"
      },
      "execution_count": null,
      "outputs": []
    }
  ]
}