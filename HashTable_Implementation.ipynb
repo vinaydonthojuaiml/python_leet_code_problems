{
  "nbformat": 4,
  "nbformat_minor": 0,
  "metadata": {
    "colab": {
      "provenance": [],
      "authorship_tag": "ABX9TyMqFBMoGEw+yGPGE86ffQK8",
      "include_colab_link": true
    },
    "kernelspec": {
      "name": "python3",
      "display_name": "Python 3"
    },
    "language_info": {
      "name": "python"
    }
  },
  "cells": [
    {
      "cell_type": "markdown",
      "metadata": {
        "id": "view-in-github",
        "colab_type": "text"
      },
      "source": [
        "<a href=\"https://colab.research.google.com/github/vinaydonthojuaiml/python_leet_code_problems/blob/main/HashTable_Implementation.ipynb\" target=\"_parent\"><img src=\"https://colab.research.google.com/assets/colab-badge.svg\" alt=\"Open In Colab\"/></a>"
      ]
    },
    {
      "cell_type": "code",
      "execution_count": 1,
      "metadata": {
        "id": "XhF9O7Nkveb8"
      },
      "outputs": [],
      "source": [
        "class HashTable:\n",
        "  def __init__(self):\n",
        "    self.bucket = 16\n",
        "    self.hashmap = [[] for i in range(self.bucket)]\n",
        "\n",
        "  def __str__(self):\n",
        "    return str(self.__dict__)\n",
        "\n",
        "  def hash(self,key):\n",
        "    return len(key) % self.bucket\n",
        "\n",
        "  def put(self,key,value):\n",
        "    hash_value = self.hash(key)\n",
        "    reference = self.hashmap[hash_value]\n",
        "    for i in range(len(reference)):\n",
        "      if reference[i][0] == key:\n",
        "        reference[i][1] == value\n",
        "        return None\n",
        "    reference.append([key,value])\n",
        "    return None\n",
        "\n",
        "\n",
        "h = HashTable()\n",
        "h.put('grapes',10000)\n",
        "h.put('apples',20000)\n"
      ]
    },
    {
      "cell_type": "code",
      "source": [],
      "metadata": {
        "id": "ZbGxtuekz97Q"
      },
      "execution_count": null,
      "outputs": []
    }
  ]
}