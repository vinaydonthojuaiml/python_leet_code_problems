{
  "nbformat": 4,
  "nbformat_minor": 0,
  "metadata": {
    "colab": {
      "provenance": [],
      "include_colab_link": true
    },
    "kernelspec": {
      "name": "python3",
      "display_name": "Python 3"
    },
    "language_info": {
      "name": "python"
    }
  },
  "cells": [
    {
      "cell_type": "markdown",
      "metadata": {
        "id": "view-in-github",
        "colab_type": "text"
      },
      "source": [
        "<a href=\"https://colab.research.google.com/github/vinaydonthojuaiml/python_leet_code_problems/blob/main/RDCT3%2BInterviewVinay.ipynb\" target=\"_parent\"><img src=\"https://colab.research.google.com/assets/colab-badge.svg\" alt=\"Open In Colab\"/></a>"
      ]
    },
    {
      "cell_type": "markdown",
      "source": [
        "# **PLEASE NOTE**\n",
        "\n",
        "This interview is using a google collab notebook, however, your code is not expected to be syntactically correct, nor is python used for every question.  **Answers are only expected to be in plain text, so don't worry about matching parentheses, etc.**. However, **you will likely find it useful to use the notebook features for the python questions** (second half).\n",
        "\n"
      ],
      "metadata": {
        "id": "4oRZPKBH54hR"
      }
    },
    {
      "cell_type": "markdown",
      "source": [
        "# **Part 1: Structured Data (SQL/DDL) - 15 minutes**"
      ],
      "metadata": {
        "id": "wUWO_RJf5aBz"
      }
    },
    {
      "cell_type": "markdown",
      "source": [
        "Imagine you are designing a site where users post and comment on photos (e.g. Instagram).  You start with the following three relational tables:\n",
        "\n",
        "**users**\n",
        "  - id\n",
        "  - name\n",
        "\n",
        "**photos**\n",
        "  - id\n",
        "  - name\n",
        "\n",
        "**comments**\n",
        "  - id\n",
        "  - photo_id\n",
        "  - user_id\n",
        "  - created_at\n",
        "  - comment\n"
      ],
      "metadata": {
        "id": "H9C-3PiM1LrL"
      }
    },
    {
      "cell_type": "markdown",
      "source": [
        "**Question 1:** (5 minutes) Describe how you would model threaded comments (what is the schema you would use?)"
      ],
      "metadata": {
        "id": "nsB9lJj534zp"
      }
    },
    {
      "cell_type": "code",
      "source": [
        "CREATE TABLE users (\n",
        "    id INT PRIMARY KEY,\n",
        "    name VARCHAR(255)\n",
        ");\n",
        "\n",
        "CREATE TABLE photos (\n",
        "    id INT PRIMARY KEY,\n",
        "    name VARCHAR(255)\n",
        ");\n",
        "\n",
        "CREATE TABLE comments (\n",
        "    id INT PRIMARY KEY,\n",
        "    photo_id INT,\n",
        "    user_id INT,\n",
        "    created_at TIMESTAMP,\n",
        "    comment TEXT,\n",
        "    FOREIGN KEY (photo_id) REFERENCES photos(id),\n",
        "    FOREIGN KEY (user_id) REFERENCES users(id),\n",
        ");\n",
        "\n",
        "CREATE TABLE comment (\n",
        "    CommentID INT PRIMARY KEY,\n",
        "    ParentUsersID INT NOT NULL,\n",
        "    ParentCommentID INT,\n",
        "    Timestamp,\n",
        "    FOREIGN KEY (ParentUsersID),\n",
        "    FOREIGN KEY (ParentCommentID)\n",
        ")\n"
      ],
      "metadata": {
        "id": "jdaHkMFL4FUT"
      },
      "execution_count": null,
      "outputs": []
    },
    {
      "cell_type": "markdown",
      "source": [
        "**Question 2:** (5 minutes)\n",
        "\n",
        "Now, let's add a table for tags that looks like this:\n",
        "\n",
        "**tags**\n",
        "* user_id\n",
        "* photo_id\n",
        "\n",
        "Write a query to answer the following question: \"Suppose `Alex` is a user in the users table with an arbitrary id.  What photos do NOT have `Alex` tagged?\""
      ],
      "metadata": {
        "id": "cAUH2NWV4Bf8"
      }
    },
    {
      "cell_type": "code",
      "source": [
        "SELECT photos.id, photos.name\n",
        "FROM photos\n",
        "LEFT JOIN tags ON photos.id = tags.photo_id AND tags.user_id = (SELECT id FROM users WHERE name = 'Alex')\n",
        "WHERE tags.user_id IS NULL;\n"
      ],
      "metadata": {
        "id": "zQjOapqN4NCQ"
      },
      "execution_count": null,
      "outputs": []
    },
    {
      "cell_type": "markdown",
      "source": [
        "**Question 3:** (5 minutes) What is the name of the user tagged in the most photos?"
      ],
      "metadata": {
        "id": "TCVxeOX9QgeF"
      }
    },
    {
      "cell_type": "code",
      "source": [
        "SELECT user_id, COUNT(*) AS tag_count\n",
        "FROM tags\n",
        "GROUP BY user_id\n",
        "ORDER BY tag_count DESC\n",
        "LIMIT 1;"
      ],
      "metadata": {
        "id": "dKRg3XN6QqKa"
      },
      "execution_count": null,
      "outputs": []
    },
    {
      "cell_type": "markdown",
      "source": [
        "# **Part 2: Python - 15 minutes**\n",
        "\n"
      ],
      "metadata": {
        "id": "aeuPW4Ri5Up5"
      }
    },
    {
      "cell_type": "markdown",
      "source": [
        "**Question 1:** (5 minutes) Look at the code in the following block and answer the following questions at the appropriate places.\n",
        "\n",
        "The code does not have to run.\n",
        "\n",
        "* Why is the for-loop inefficient compared to other methods?\n",
        "* Write pseudocode or describe how you would optimize the for-loop below."
      ],
      "metadata": {
        "id": "s9VPhR9W4e2L"
      }
    },
    {
      "cell_type": "code",
      "source": [
        "import math\n",
        "\n",
        "# Geo pairs representing edges/lines between one house and several other houses\n",
        "list_of_geo_pairs = [\n",
        "    {'lat1': 38.556327, 'lon1': -121.406769, 'lat2': 42.737251, 'lon2': -92.48076},\n",
        "    {'lat1': 38.556327, 'lon1': -121.406769, 'lat2': 36.141348, 'lon2': -85.087038},\n",
        "    {'lat1': 38.556327, 'lon1': -121.406769, 'lat2': 34.581223, 'lon2': -118.151699},\n",
        "    {'lat1': 38.556327, 'lon1': -121.406769, 'lat2': 27.884432, 'lon2': -82.525005},\n",
        "    {'lat1': 38.556327, 'lon1': -121.406769, 'lat2': 31.625144, 'lon2': -84.162117},\n",
        "    {'lat1': 38.556327, 'lon1': -121.406769, 'lat2': 40.706995, 'lon2': -74.005543},\n",
        "    {'lat1': 38.556327, 'lon1': -121.406769, 'lat2': 39.880989, 'lon2': -84.021141},\n",
        "]\n",
        "\n",
        "# List Optimised Haversine function\n",
        "def haversine(lat1, lon1, lat2, lon2):\n",
        "  miles_constant = 3959\n",
        "  lat1, lon1, lat2, lon2 = map(math.radians, [lat1, lon1, lat2, lon2])\n",
        "  dlat = lat2 - lat1\n",
        "  dlon = lon2 - lon1\n",
        "  a = math.sin(dlat/2)**2 + math.cos(lat1) * math.cos(lat2) * math.sin(dlon/2)**2\n",
        "  c = 2 * math.asin(math.sqrt(a))\n",
        "  mi = miles_constant * c\n",
        "  return mi\n",
        "\n",
        "# Why is this for-loop inefficient compared to other methods?\n",
        "# your answer here\n",
        "for next_geo in list_of_geo_pairs:\n",
        "  next_geo['distance'] = haversine(next_geo['lat1'], next_geo['lon1'], next_geo['lat2'], next_geo['lon2'])\n",
        "\n",
        "# Write pseudocode or describe how you would optimize this for-loop.\n",
        "\n",
        "\n",
        "# Instead of converting latitudes and longitudes to radians for each pair of points inside the loop, i can precompute these conversions outside the loop. Since the conversion factor is constant, i only need to do it once.\n",
        "# I can use numpy to perform the calculations for all pairs simultaneoulsy.\n",
        "#I can use memoization the results to avoid redundant calculations."
      ],
      "metadata": {
        "id": "51wSUKwb5SEB"
      },
      "execution_count": null,
      "outputs": []
    },
    {
      "cell_type": "markdown",
      "source": [],
      "metadata": {
        "id": "qHKQi0pqYe_0"
      }
    },
    {
      "cell_type": "markdown",
      "source": [
        "**Question 2:** (5 minutes) Assume we scale this function up to 100 million rows.  Describe your scaling strategy."
      ],
      "metadata": {
        "id": "AXQtKzYku4Vp"
      }
    },
    {
      "cell_type": "code",
      "source": [
        "# Instead of scaling this function up to 100 million rows in a single loop, i can use batch processing and break into smaller batches\n",
        "# I can use database indexing to ensure the relevant columns are indexed in the database.\n",
        "# I can use caching for frequently accesses pair of points.\n",
        "# Leverage parallel processing (e.g., multi-threading, multiprocessing) to compute distances concurrently.\n",
        "# Use  NumPy for bulk calculations.\n",
        "# Distribute the workload across a cluster of machines."
      ],
      "metadata": {
        "id": "-yb-MQ5qKG_m"
      },
      "execution_count": null,
      "outputs": []
    },
    {
      "cell_type": "markdown",
      "source": [
        "**Question 3:** (5 minutes) How can you completely refactor this code to optimize the data structure and the haversine function?"
      ],
      "metadata": {
        "id": "JI5_P_8CQN9s"
      }
    },
    {
      "cell_type": "code",
      "source": [
        "import numpy as np\n",
        "from math import radians, cos, sin, asin, sqrt\n",
        "\n",
        "def haversine(lon1, lat1, lon2, lat2):\n",
        "\n",
        "    lon1, lat1, lon2, lat2 = map(radians, [lon1, lat1, lon2, lat2])\n",
        "\n",
        "\n",
        "    dlon = lon2 - lon1\n",
        "    dlat = lat2 - lat1\n",
        "    a = sin(dlat / 2) ** 2 + cos(lat1) * cos(lat2) * sin(dlon / 2) ** 2\n",
        "    c = 2 * asin(sqrt(a))\n",
        "    km = 3959 * c\n",
        "\n",
        "    return km\n",
        "\n",
        "latitudes = np.array(df['a_latitude'])\n",
        "longitudes = np.array(df['a_longitude'])\n",
        "distances = haversine(longitudes, latitudes, df['b_longitude'], df['b_latitude'])\n",
        "\n",
        "df['distance'] = distances\n"
      ],
      "metadata": {
        "id": "dGolKBZlQU3p"
      },
      "execution_count": null,
      "outputs": []
    }
  ]
}