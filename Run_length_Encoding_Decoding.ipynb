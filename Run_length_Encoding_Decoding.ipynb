{
  "nbformat": 4,
  "nbformat_minor": 0,
  "metadata": {
    "colab": {
      "provenance": [],
      "authorship_tag": "ABX9TyPLfDr8JE+GSxaWolcWoYqc",
      "include_colab_link": true
    },
    "kernelspec": {
      "name": "python3",
      "display_name": "Python 3"
    },
    "language_info": {
      "name": "python"
    }
  },
  "cells": [
    {
      "cell_type": "markdown",
      "metadata": {
        "id": "view-in-github",
        "colab_type": "text"
      },
      "source": [
        "<a href=\"https://colab.research.google.com/github/vinaydonthojuaiml/python_leet_code_problems/blob/main/Run_length_Encoding_Decoding.ipynb\" target=\"_parent\"><img src=\"https://colab.research.google.com/assets/colab-badge.svg\" alt=\"Open In Colab\"/></a>"
      ]
    },
    {
      "cell_type": "code",
      "source": [
        "# This problem was asked by Amazon.\n",
        "\n",
        "# Run-length encoding is a fast and simple method of encoding strings. The basic idea is to represent repeated successive characters as a single count and character. For example, the string \"AAAABBBCCDAA\" would be encoded as \"4A3B2C1D2A\".\n",
        "\n",
        "# Implement run-length encoding and decoding. You can assume the string to be encoded have no digits and consists solely of alphabetic characters. You can assume the string to be decoded is valid.\n",
        "\n",
        "\n",
        "def encode_rle(input_string):\n",
        "  encoded = \"\"\n",
        "  n = len(input_string)\n",
        "  i = 0\n",
        "\n",
        "  while i < n:\n",
        "    # Count occurrences of each character\n",
        "\n",
        "    count = 1\n",
        "\n",
        "    while i < n - 1 and input_string[i] == input_string[i+1]:\n",
        "      count += 1\n",
        "\n",
        "    #Append character and it's count\n",
        "    encoded += input_string[i] + str(count)\n",
        "    i += 1\n",
        "  return encoded\n",
        "\n",
        "\n",
        "# Example usage\n",
        "input_str = \"AAAABBBCCDAA\"\n",
        "encoded_str = encode_rle(input_str)\n",
        "print(encoded_str)  # Output: \"A4B3C2D1A2\""
      ],
      "metadata": {
        "id": "bS-rHENeVEET"
      },
      "execution_count": null,
      "outputs": []
    },
    {
      "cell_type": "code",
      "source": [
        "def decode_rle(encoded_string):\n",
        "    decoded = \"\"\n",
        "    i = 0\n",
        "    n = len(encoded_string)\n",
        "\n",
        "    while i < n:\n",
        "        char = encoded_string[i]\n",
        "        count = int(encoded_string[i + 1])\n",
        "        decoded += char * count\n",
        "        i += 2\n",
        "\n",
        "    return decoded\n",
        "\n",
        "# Example usage\n",
        "encoded_str = \"A4B3C2D1A2\"\n",
        "decoded_str = decode_rle(encoded_str)\n",
        "print(decoded_str)  # Output: \"AAAABBBCCDAA\""
      ],
      "metadata": {
        "id": "5PnLn55xVErw"
      },
      "execution_count": null,
      "outputs": []
    },
    {
      "cell_type": "code",
      "source": [],
      "metadata": {
        "id": "BLN_fG8yVQYt"
      },
      "execution_count": null,
      "outputs": []
    }
  ]
}