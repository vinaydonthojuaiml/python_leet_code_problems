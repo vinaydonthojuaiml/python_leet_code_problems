{
  "nbformat": 4,
  "nbformat_minor": 0,
  "metadata": {
    "colab": {
      "provenance": [],
      "authorship_tag": "ABX9TyOzYqwWPpgOUxus8TShOkSA",
      "include_colab_link": true
    },
    "kernelspec": {
      "name": "python3",
      "display_name": "Python 3"
    },
    "language_info": {
      "name": "python"
    }
  },
  "cells": [
    {
      "cell_type": "markdown",
      "metadata": {
        "id": "view-in-github",
        "colab_type": "text"
      },
      "source": [
        "<a href=\"https://colab.research.google.com/github/vinaydonthojuaiml/python_leet_code_problems/blob/main/Run_length_Encoding_Decoding.ipynb\" target=\"_parent\"><img src=\"https://colab.research.google.com/assets/colab-badge.svg\" alt=\"Open In Colab\"/></a>"
      ]
    },
    {
      "cell_type": "code",
      "execution_count": null,
      "metadata": {
        "id": "apgvpefaL34n"
      },
      "outputs": [],
      "source": [
        "# This problem was asked by Amazon.\n",
        "\n",
        "# Run-length encoding is a fast and simple method of encoding strings. The basic idea is to represent repeated successive characters as a single count and character. For example, the string \"AAAABBBCCDAA\" would be encoded as \"4A3B2C1D2A\".\n",
        "\n",
        "# Implement run-length encoding and decoding. You can assume the string to be encoded have no digits and consists solely of alphabetic characters. You can assume the string to be decoded is valid.\n",
        "\n",
        "\n",
        "def encode_rle(input_string):\n",
        "  encoded = \"\"\n",
        "  n = len(input_string)\n",
        "  i = 0\n",
        "\n",
        "  while i < n:\n",
        "    # Count occurrences of each character\n",
        "\n",
        "    count = 1\n",
        "\n",
        "    while i < n - 1 and input_string[i] == input_string[i+1]:\n",
        "      count += 1\n",
        "\n",
        "    #Append character and it's count\n",
        "    encoded += input_string[i] + str(count)\n",
        "    i += 1\n",
        "  return encoded\n",
        "\n",
        "\n",
        "# Example usage\n",
        "input_str = \"AAAABBBCCDAA\"\n",
        "encoded_str = encode_rle(input_str)\n",
        "print(encoded_str)  # Output: \"A4B3C2D1A2\""
      ]
    },
    {
      "cell_type": "code",
      "source": [
        "def encode(s):\n",
        "    if not s:\n",
        "        return ''\n",
        "\n",
        "    result = ''\n",
        "    current_char = s[0]\n",
        "    current_count = 1\n",
        "    for i, char in enumerate(s, 1):\n",
        "        if char == current_char:\n",
        "            current_count += 1\n",
        "        else:\n",
        "            result += str(current_count) + current_char\n",
        "            current_char = char\n",
        "            current_count = 1\n",
        "    result += str(current_count) + current_char\n",
        "    return result\n",
        "\n",
        "# Example usage\n",
        "input_str = \"AAAABBBCCDAA\"\n",
        "encoded_str = encode(input_str)\n",
        "print(encoded_str)  # Output: \"A4B3C2D1A2\""
      ],
      "metadata": {
        "id": "pp0_ceq4SJoY"
      },
      "execution_count": null,
      "outputs": []
    },
    {
      "cell_type": "code",
      "source": [],
      "metadata": {
        "id": "GaYMwGsBSsqU"
      },
      "execution_count": null,
      "outputs": []
    }
  ]
}