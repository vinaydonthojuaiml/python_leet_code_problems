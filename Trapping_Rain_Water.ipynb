{
  "nbformat": 4,
  "nbformat_minor": 0,
  "metadata": {
    "colab": {
      "provenance": [],
      "authorship_tag": "ABX9TyNSmIiJBPoXrCh1ONXeRZGw",
      "include_colab_link": true
    },
    "kernelspec": {
      "name": "python3",
      "display_name": "Python 3"
    },
    "language_info": {
      "name": "python"
    }
  },
  "cells": [
    {
      "cell_type": "markdown",
      "metadata": {
        "id": "view-in-github",
        "colab_type": "text"
      },
      "source": [
        "<a href=\"https://colab.research.google.com/github/vinaydonthojuaiml/python_leet_code_problems/blob/main/Trapping_Rain_Water.ipynb\" target=\"_parent\"><img src=\"https://colab.research.google.com/assets/colab-badge.svg\" alt=\"Open In Colab\"/></a>"
      ]
    },
    {
      "cell_type": "code",
      "execution_count": null,
      "metadata": {
        "id": "lTjZKWubT6Eo"
      },
      "outputs": [],
      "source": [
        "#Trapping Rain Water\n",
        "\n",
        "class Solution:\n",
        "  def trap(self,height: List[int]) -> int:\n",
        "\n",
        "    if not height: return 0\n",
        "\n",
        "    l, r = 0, len(height) -1\n",
        "    leftMax, rightMax = height[l], height[r]\n",
        "\n",
        "    res = 0\n",
        "\n",
        "    while l < r:\n",
        "      if leftMax < rightMax:\n",
        "        l += 1\n",
        "        leftMax = max(leftMax,height[l])\n",
        "        res += leftMax - height[l]\n",
        "      else:\n",
        "        r -= 1\n",
        "        rightMax = max(rightMax, height[r])\n",
        "        res += rightMax - height[r]\n",
        "\n",
        "    return res\n"
      ]
    },
    {
      "cell_type": "code",
      "source": [
        "def capacity(arr):\n",
        "  if not arr:\n",
        "    return 0\n",
        "\n",
        "  total = 0\n",
        "\n",
        "  max_i = arr.index(max(arr))\n",
        "\n",
        "  left_max = arr[0]\n",
        "  for num in arr[1:max_i]:\n",
        "    total += left_max - num\n",
        "    left_max = max(left_max, num)\n",
        "\n",
        "  right_max = arr[-1]\n",
        "  for num in arr[-2:max_i:-1]:\n",
        "    total += right_max - num\n",
        "    right_max = max(right_max, num)\n",
        "\n",
        "  return total"
      ],
      "metadata": {
        "id": "j-XTLt2_fbWu"
      },
      "execution_count": null,
      "outputs": []
    }
  ]
}