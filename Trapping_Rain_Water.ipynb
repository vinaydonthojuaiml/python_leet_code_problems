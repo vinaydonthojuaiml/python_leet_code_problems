{
  "nbformat": 4,
  "nbformat_minor": 0,
  "metadata": {
    "colab": {
      "provenance": [],
      "authorship_tag": "ABX9TyN3hrXPWO2dFCX13PT9yQpt",
      "include_colab_link": true
    },
    "kernelspec": {
      "name": "python3",
      "display_name": "Python 3"
    },
    "language_info": {
      "name": "python"
    }
  },
  "cells": [
    {
      "cell_type": "markdown",
      "metadata": {
        "id": "view-in-github",
        "colab_type": "text"
      },
      "source": [
        "<a href=\"https://colab.research.google.com/github/vinaydonthojuaiml/python_leet_code_problems/blob/main/Trapping_Rain_Water.ipynb\" target=\"_parent\"><img src=\"https://colab.research.google.com/assets/colab-badge.svg\" alt=\"Open In Colab\"/></a>"
      ]
    },
    {
      "cell_type": "code",
      "execution_count": null,
      "metadata": {
        "id": "lTjZKWubT6Eo"
      },
      "outputs": [],
      "source": [
        "#Trapping Rain Water\n",
        "\n",
        "class Solution:\n",
        "  def trap(self,height: List[int]) -> int:\n",
        "\n",
        "    if not height: return 0\n",
        "\n",
        "    l, r = 0, len(height) -1\n",
        "    leftMax, rightMax = height[l], height[r]\n",
        "\n",
        "    res = 0\n",
        "\n",
        "    while l < r:\n",
        "      if leftMax < rightMax:\n",
        "        l += 1\n",
        "        leftMax = max(leftMax,height[l])\n",
        "        res += leftMax - height[l]\n",
        "      else:\n",
        "        r -= 1\n",
        "        rightMax = max(rightMax, height[r])\n",
        "        res += rightMax - height[r]\n",
        "\n",
        "    return res\n"
      ]
    }
  ]
}