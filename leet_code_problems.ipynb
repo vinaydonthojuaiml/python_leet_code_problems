{
  "nbformat": 4,
  "nbformat_minor": 0,
  "metadata": {
    "colab": {
      "provenance": [],
      "include_colab_link": true
    },
    "kernelspec": {
      "name": "python3",
      "display_name": "Python 3"
    },
    "language_info": {
      "name": "python"
    }
  },
  "cells": [
    {
      "cell_type": "markdown",
      "metadata": {
        "id": "view-in-github",
        "colab_type": "text"
      },
      "source": [
        "<a href=\"https://colab.research.google.com/github/vinaydonthojuaiml/python_leet_code_problems/blob/main/leet_code_problems.ipynb\" target=\"_parent\"><img src=\"https://colab.research.google.com/assets/colab-badge.svg\" alt=\"Open In Colab\"/></a>"
      ]
    },
    {
      "cell_type": "code",
      "execution_count": null,
      "metadata": {
        "id": "m2rrRKhJf_G6"
      },
      "outputs": [],
      "source": [
        "#You are given two non-empty linked lists representing two non-negative integers. The digits are stored in reverse order, and each of their nodes contains a single digit. Add the two numbers and return the sum as a linked list.\n",
        "\n",
        "#You may assume the two numbers do not contain any leading zero, except the number 0 itself.\n",
        "\n",
        "#Example 1:\n",
        "\n",
        "#2 -> 4 -> 3\n",
        "#5 -> 6 -> 4\n",
        "#_______________\n",
        "#7 -> 0 -> 8\n",
        "\n",
        "#Input: l1 = [2,4,3], l2 = [5,6,4]\n",
        "#Output: [7,0,8]\n",
        "#Explanation: 342 + 465 = 807.\n",
        "\n",
        "#Example 2:\n",
        "\n",
        "#Input: l1 = [0], l2 = [0]\n",
        "#Output: [0]\n",
        "#Example 3:\n",
        "\n",
        "#Input: l1 = [9,9,9,9,9,9,9], l2 = [9,9,9,9]\n",
        "#Output: [8,9,9,9,0,0,0,1]\n",
        "\n",
        "#Constraints:\n",
        "\n",
        "#The number of nodes in each linked list is in the range [1, 100].\n",
        "#0 <= Node.val <= 9\n",
        "#It is guaranteed that the list represents a number that does not have leading zeros.\n",
        "\n",
        "#Definition for singly-linked list\n",
        "#class ListNode:\n",
        "#  def __init__(self,val=0,next=None):\n",
        "#    self.val=val\n",
        "#    self.next=next\n",
        "\n",
        "class Solution:\n",
        "   def addTwoNumbers(self,l1: ListNode,l2: ListNode) -> ListNode:\n",
        "\n",
        "    added = ListNode(val = (l1.val+l2.val) % 10)\n",
        "    carry_over = (l1.val+l2.val) // 10\n",
        "    current_node = added\n",
        "\n",
        "    while(l1.next and l2.next):\n",
        "      l1=l1.next\n",
        "      l2=l2.next\n",
        "\n",
        "      current_node.next = ListNode(val=(carry_over+l1.val+l2.val)%10)\n",
        "      carry_over = (carry_over+l1.val+l2.val) // 10\n",
        "      current_node = current_node.next\n",
        "\n",
        "    while(l1.next):\n",
        "      l1=l1.next\n",
        "\n",
        "      current_node.next = ListNode(val=(carry_over+l1.val)%10)\n",
        "      carry_over = (carry_over+l1.val) // 10\n",
        "      current_node = current_node.next\n",
        "\n",
        "    while(l2.next):\n",
        "      l2=l2.next\n",
        "\n",
        "      current_node.next = ListNode(val=(carry_over+l2.val)%10)\n",
        "      carry_over = (carry_over+l2.val) // 10\n",
        "      current_node = current_node.next\n",
        "\n",
        "    if (carry_over)>0:\n",
        "      current_node.next = ListNode(val=1)\n",
        "\n",
        "    return (added)\n"
      ]
    },
    {
      "cell_type": "code",
      "source": [
        "#Arrays\n",
        "\n",
        "strings  = ['a','b','c','d','e']\n",
        "\n",
        "strings.append('x')  ## O(1)\n",
        "\n",
        "strings.pop() # O(1)\n",
        "\n",
        "strings.pop() # O(1)\n",
        "\n",
        "strings.insert(0,'z') # O(n)\n",
        "\n",
        "strings.insert(2,'alien') #O(n)\n",
        "\n",
        "print(strings)\n",
        "\n",
        "\n",
        "#Array native python methods :-\n",
        "#append()\tAdds an element at the end of the list\n",
        "#clear()\tRemoves all the elements from the list\n",
        "#copy()\tReturns a copy of the list\n",
        "#count()\tReturns the number of elements with the specified value\n",
        "#extend()\tAdd the elements of a list (or any iterable), to the end of the current list\n",
        "#index()\tReturns the index of the first element with the specified value\n",
        "#insert()\tAdds an element at the specified position\n",
        "#pop()\tRemoves the element at the specified position\n",
        "#remove()\tRemoves the first item with the specified value\n",
        "#reverse()\tReverses the order of the list\n",
        "#ort()\tSorts the list\n",
        "\n",
        "#List objects are implemented as arrays.\n",
        "#They are optimized for fast fixed-length operations and incur O(n) memory movement costs for pop(0) and insert(0, v)\n",
        "#operations which change both the size and position of the underlying data representation.\n",
        "\n",
        "#For in depth information on arrays\n",
        "#https://docs.python.org/3/tutorial/datastructures.html\n",
        "\n",
        "#to implement arrays as a stack\n",
        "#https://docs.python.org/3/library/collections.html#collections.deque"
      ],
      "metadata": {
        "id": "_WE-lX0im2dF",
        "colab": {
          "base_uri": "https://localhost:8080/"
        },
        "outputId": "cb662ec6-db62-47cc-eb67-76b4468962c5"
      },
      "execution_count": null,
      "outputs": [
        {
          "output_type": "stream",
          "name": "stdout",
          "text": [
            "['z', 'a', 'alien', 'b', 'c', 'd']\n"
          ]
        }
      ]
    },
    {
      "cell_type": "code",
      "source": [
        "#Implementing an array:\n",
        "class Array:\n",
        "  def __init__(self):\n",
        "    self.length=0\n",
        "    self.data = {}\n",
        "\n",
        "  def __str__(self):\n",
        "    return str(self.__dict__)\n",
        "\n",
        "  def get(self,index):\n",
        "    return self.data[index]\n",
        "\n",
        "  def push(self,item):\n",
        "    self.data[self.length] = item\n",
        "    self.length += 1\n",
        "\n",
        "  def pop(self):\n",
        "    lastitem = self.data[self.length-1]\n",
        "    del self.data[self.length-1]\n",
        "    self.length -=1\n",
        "    return lastitem\n",
        "\n",
        "  def delete(self,index):\n",
        "    deletedItem = self.data[index]\n",
        "    for i in range(index,self.length-1):\n",
        "      self.data[i] = self.data[i+1]\n",
        "\n",
        "    del self.data[self.length-1]\n",
        "    self.length -=1\n",
        "    return deletedItem\n",
        "\n",
        "\n",
        "\n",
        "arr =  Array()\n",
        "arr.push(3)\n",
        "arr.push(4)\n",
        "arr.push(5)\n",
        "#arr.pop()\n",
        "arr.push(6)\n",
        "arr.delete(2)\n",
        "arr.push(7)\n",
        "arr.delete(0)\n",
        "print(arr)\n"
      ],
      "metadata": {
        "id": "P4PDHBZMlzkQ",
        "colab": {
          "base_uri": "https://localhost:8080/"
        },
        "outputId": "f3063698-caae-44b3-d259-08416a013e0f"
      },
      "execution_count": null,
      "outputs": [
        {
          "output_type": "stream",
          "name": "stdout",
          "text": [
            "{'length': 3, 'data': {0: 4, 1: 6, 2: 7}}\n"
          ]
        }
      ]
    },
    {
      "cell_type": "code",
      "source": [
        "#Reversing a string\n",
        "\n",
        "def reverse(stri):\n",
        "  myList = []\n",
        "  for i in range(len(stri)-1,-1,-1):\n",
        "    myList.append(stri[i])\n",
        "  return ''.join(myList)\n",
        "\n",
        "x = reverse(\"My Name is Vinay\")\n",
        "print(x)\n",
        "\n",
        "## or just stri[::-1]\n"
      ],
      "metadata": {
        "id": "yssvdMEIlxfJ",
        "outputId": "80d010de-2f97-418d-d754-dc1d71ac7f46",
        "colab": {
          "base_uri": "https://localhost:8080/"
        }
      },
      "execution_count": null,
      "outputs": [
        {
          "output_type": "stream",
          "name": "stdout",
          "text": [
            "yaniV si emaN yM\n"
          ]
        }
      ]
    },
    {
      "cell_type": "code",
      "source": [
        "#Merge Sort Array\n",
        "\n",
        "def mergesortarray(a,b):\n",
        "  if len(a)==0 or len(b)==0:\n",
        "    return a+b\n",
        "  myList = []\n",
        "  i=0\n",
        "  j=0\n",
        "\n",
        "  while i<len(a) and j<len(b):\n",
        "    if a[i]<=b[j]:\n",
        "      myList.append(a[i])\n",
        "      i+=1\n",
        "    elif b[j]>a[i]:\n",
        "      myList.append(b[j])\n",
        "      j+=1\n",
        "\n",
        "  return myList+a[i:]+b[j:]\n",
        "\n",
        "a = [1,2,3,4,5,6]\n",
        "b = [7,8]\n",
        "\n",
        "x = mergesortarray(a,b)\n",
        "print(x)\n"
      ],
      "metadata": {
        "id": "gTVkrgPit7BF",
        "outputId": "c595c99a-501b-44ea-bbfd-3c1857d36de6",
        "colab": {
          "base_uri": "https://localhost:8080/"
        }
      },
      "execution_count": null,
      "outputs": [
        {
          "output_type": "stream",
          "name": "stdout",
          "text": [
            "[1, 2, 3, 4, 5, 6, 7, 8]\n"
          ]
        }
      ]
    },
    {
      "cell_type": "code",
      "source": [
        "#Data Structures - Hash Tables - First Recurrring Character - O(n^2)\n",
        "\n",
        "def fun(myList):\n",
        "  for i in range(0,len(myList)):\n",
        "    for j in range(i+1,len(myList)):\n",
        "      if myList[i] == myList[j]:\n",
        "        return myList[i]\n",
        "  return 0\n",
        "\n",
        "myList = [2,1,1,2,3,4,5]\n",
        "x = fun(myList)\n",
        "print(x)"
      ],
      "metadata": {
        "id": "Y9h72BzewWYn",
        "colab": {
          "base_uri": "https://localhost:8080/"
        },
        "outputId": "e6c8d822-dfaf-48e9-e066-ab412c0b2f46"
      },
      "execution_count": null,
      "outputs": [
        {
          "output_type": "stream",
          "name": "stdout",
          "text": [
            "2\n"
          ]
        }
      ]
    },
    {
      "cell_type": "code",
      "source": [
        "#Data Structures - Hash Tables - First Recurrring Character - O(n)\n",
        "\n",
        "def hashtable(myList):\n",
        "  mydict = {}\n",
        "  for i in range(0,len(myList)):\n",
        "    if myList[i] in mydict:\n",
        "      return myList[i]\n",
        "    else:\n",
        "      mydict[myList[i]] = i\n",
        "  return 0\n",
        "\n",
        "myList = [2,1,1,2,3,4,5]\n",
        "x = hashtable(myList)\n",
        "print(x)"
      ],
      "metadata": {
        "colab": {
          "base_uri": "https://localhost:8080/"
        },
        "id": "OycJ3laLDHp3",
        "outputId": "87817ede-9505-4c90-dfce-1d834c23e0b3"
      },
      "execution_count": null,
      "outputs": [
        {
          "output_type": "stream",
          "name": "stdout",
          "text": [
            "1\n"
          ]
        }
      ]
    },
    {
      "cell_type": "code",
      "source": [
        "#Data Structures - Linked List\n",
        "\n",
        "# 15 -> 6 -> 8\n",
        "\n",
        "class Node():\n",
        "\n",
        "  def __init__(self,data):\n",
        "    self.data = data\n",
        "    self.next = None\n",
        "\n",
        "class LinkedList():\n",
        "\n",
        "  def __init__(self):\n",
        "    self.head=None\n",
        "    self.tail=None\n",
        "\n",
        "  def append(self,data):\n",
        "    new_node = Node(data)\n",
        "    if self.head ==  None:\n",
        "      self.head = new_node\n",
        "      self.tail = self.head\n",
        "      self.length = 1\n",
        "    else:\n",
        "      self.tail.next = new_node\n",
        "      self.tail = new_node\n",
        "      self.length += 1\n",
        "\n",
        "#l= LinkedList()\n",
        "#print(l.head.data,l.tail.data)"
      ],
      "metadata": {
        "id": "S8QCu9zyEMbl"
      },
      "execution_count": null,
      "outputs": []
    },
    {
      "cell_type": "code",
      "source": [
        "#Longest Palindrome Substring\n",
        "\n",
        "class Solution:\n",
        "  def longestPalindrome(self,s:str) -> str:\n",
        "\n",
        "    res = \"\"\n",
        "    resLen = 0\n",
        "\n",
        "    for i in range(len(s)):\n",
        "      # odd length palindromes\n",
        "      # l = left\n",
        "      # r = right --> bab or aba\n",
        "      # i = center position\n",
        "      l , r = i, i\n",
        "\n",
        "\n",
        "\n",
        ""
      ],
      "metadata": {
        "id": "o2TGwFOnci6X"
      },
      "execution_count": null,
      "outputs": []
    }
  ]
}