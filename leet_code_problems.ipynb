{
  "nbformat": 4,
  "nbformat_minor": 0,
  "metadata": {
    "colab": {
      "provenance": [],
      "authorship_tag": "ABX9TyP0tfHvtXb7JUGXfTEglr/w",
      "include_colab_link": true
    },
    "kernelspec": {
      "name": "python3",
      "display_name": "Python 3"
    },
    "language_info": {
      "name": "python"
    }
  },
  "cells": [
    {
      "cell_type": "markdown",
      "metadata": {
        "id": "view-in-github",
        "colab_type": "text"
      },
      "source": [
        "<a href=\"https://colab.research.google.com/github/vinaydonthojuaiml/python_leet_code_problems/blob/main/leet_code_problems.ipynb\" target=\"_parent\"><img src=\"https://colab.research.google.com/assets/colab-badge.svg\" alt=\"Open In Colab\"/></a>"
      ]
    },
    {
      "cell_type": "code",
      "execution_count": null,
      "metadata": {
        "id": "m2rrRKhJf_G6"
      },
      "outputs": [],
      "source": [
        "#You are given two non-empty linked lists representing two non-negative integers. The digits are stored in reverse order, and each of their nodes contains a single digit. Add the two numbers and return the sum as a linked list.\n",
        "\n",
        "#You may assume the two numbers do not contain any leading zero, except the number 0 itself.\n",
        "\n",
        "#Example 1:\n",
        "\n",
        "#2 -> 4 -> 3\n",
        "#5 -> 6 -> 4\n",
        "#_______________\n",
        "#7 -> 0 -> 8\n",
        "\n",
        "#Input: l1 = [2,4,3], l2 = [5,6,4]\n",
        "#Output: [7,0,8]\n",
        "#Explanation: 342 + 465 = 807.\n",
        "\n",
        "#Example 2:\n",
        "\n",
        "#Input: l1 = [0], l2 = [0]\n",
        "#Output: [0]\n",
        "#Example 3:\n",
        "\n",
        "#Input: l1 = [9,9,9,9,9,9,9], l2 = [9,9,9,9]\n",
        "#Output: [8,9,9,9,0,0,0,1]\n",
        "\n",
        "#Constraints:\n",
        "\n",
        "#The number of nodes in each linked list is in the range [1, 100].\n",
        "#0 <= Node.val <= 9\n",
        "#It is guaranteed that the list represents a number that does not have leading zeros.\n",
        "\n",
        "#Definition for singly-linked list\n",
        "#class ListNode:\n",
        "#  def __init__(self,val=0,next=None):\n",
        "#    self.val=val\n",
        "#    self.next=next\n",
        "\n",
        "class Solution:\n",
        "   def addTwoNumbers(self,l1: ListNode,l2: ListNode) -> ListNode:\n",
        "\n",
        "    added = ListNode(val = (l1.val+l2.val) % 10)\n",
        "    carry_over = (l1.val+l2.val) // 10\n",
        "    current_node = added\n",
        "\n",
        "    while(l1.next and l2.next):\n",
        "      l1=l1.next\n",
        "      l2=l2.next\n",
        "\n",
        "      current_node.next = ListNode(val=(carry_over+l1.val+l2.val)%10)\n",
        "      carry_over = (carry_over+l1.val+l2.val) // 10\n",
        "      current_node = current_node.next\n",
        "\n",
        "    while(l1.next):\n",
        "      l1=l1.next\n",
        "\n",
        "      current_node.next = ListNode(val=(carry_over+l1.val)%10)\n",
        "      carry_over = (carry_over+l1.val) // 10\n",
        "      current_node = current_node.next\n",
        "\n",
        "    while(l2.next):\n",
        "      l2=l2.next\n",
        "\n",
        "      current_node.next = ListNode(val=(carry_over+l2.val)%10)\n",
        "      carry_over = (carry_over+l2.val) // 10\n",
        "      current_node = current_node.next\n",
        "\n",
        "    if (carry_over)>0:\n",
        "      current_node.next = ListNode(val=1)\n",
        "\n",
        "    return (added)\n"
      ]
    },
    {
      "cell_type": "code",
      "source": [
        "#Arrays\n",
        "\n",
        "strings  = ['a','b','c','d','e']\n",
        "\n",
        "strings.append('x')  ## O(1)\n",
        "\n",
        "strings.pop() # O(1)\n",
        "\n",
        "strings.pop() # O(1)\n",
        "\n",
        "strings.insert(0,'z') # O(n)\n",
        "\n",
        "strings.insert(2,'alien') #O(n)\n",
        "\n",
        "print(strings)\n",
        "\n",
        "\n",
        "#Array native python methods :-\n",
        "#append()\tAdds an element at the end of the list\n",
        "#clear()\tRemoves all the elements from the list\n",
        "#copy()\tReturns a copy of the list\n",
        "#count()\tReturns the number of elements with the specified value\n",
        "#extend()\tAdd the elements of a list (or any iterable), to the end of the current list\n",
        "#index()\tReturns the index of the first element with the specified value\n",
        "#insert()\tAdds an element at the specified position\n",
        "#pop()\tRemoves the element at the specified position\n",
        "#remove()\tRemoves the first item with the specified value\n",
        "#reverse()\tReverses the order of the list\n",
        "#ort()\tSorts the list\n",
        "\n",
        "#List objects are implemented as arrays.\n",
        "#They are optimized for fast fixed-length operations and incur O(n) memory movement costs for pop(0) and insert(0, v)\n",
        "#operations which change both the size and position of the underlying data representation.\n",
        "\n",
        "#For in depth information on arrays\n",
        "#https://docs.python.org/3/tutorial/datastructures.html\n",
        "\n",
        "#to implement arrays as a stack\n",
        "#https://docs.python.org/3/library/collections.html#collections.deque"
      ],
      "metadata": {
        "id": "_WE-lX0im2dF",
        "colab": {
          "base_uri": "https://localhost:8080/"
        },
        "outputId": "cb662ec6-db62-47cc-eb67-76b4468962c5"
      },
      "execution_count": 9,
      "outputs": [
        {
          "output_type": "stream",
          "name": "stdout",
          "text": [
            "['z', 'a', 'alien', 'b', 'c', 'd']\n"
          ]
        }
      ]
    },
    {
      "cell_type": "code",
      "source": [
        "#Implementing an array:\n",
        "class Array:\n",
        "  def __init__(self):\n",
        "    self.length=0\n",
        "    self.data = {}\n",
        "\n",
        "  def __str__(self):\n",
        "    return str(self.__dict__)\n",
        "\n",
        "  def get(self,index):\n",
        "    return self.data[index]\n",
        "\n",
        "  def push(self,item):\n",
        "    self.data[self.length] = item\n",
        "    self.length += 1\n",
        "\n",
        "\n",
        "arr =  Array()\n",
        "arr.push(3)\n",
        "arr.push(4)\n",
        "print(arr)\n"
      ],
      "metadata": {
        "id": "P4PDHBZMlzkQ",
        "colab": {
          "base_uri": "https://localhost:8080/"
        },
        "outputId": "701b4a8b-5c45-4810-d6e6-3ba50a16ff48"
      },
      "execution_count": 17,
      "outputs": [
        {
          "output_type": "stream",
          "name": "stdout",
          "text": [
            "{'length': 2, 'data': {0: 3, 1: 4}}\n"
          ]
        }
      ]
    },
    {
      "cell_type": "code",
      "source": [],
      "metadata": {
        "id": "yssvdMEIlxfJ"
      },
      "execution_count": null,
      "outputs": []
    }
  ]
}