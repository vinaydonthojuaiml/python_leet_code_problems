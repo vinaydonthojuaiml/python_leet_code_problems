{
  "nbformat": 4,
  "nbformat_minor": 0,
  "metadata": {
    "colab": {
      "provenance": [],
      "authorship_tag": "ABX9TyM8vxtgfoefhimPKEEqp0AE",
      "include_colab_link": true
    },
    "kernelspec": {
      "name": "python3",
      "display_name": "Python 3"
    },
    "language_info": {
      "name": "python"
    }
  },
  "cells": [
    {
      "cell_type": "markdown",
      "metadata": {
        "id": "view-in-github",
        "colab_type": "text"
      },
      "source": [
        "<a href=\"https://colab.research.google.com/github/vinaydonthojuaiml/python_leet_code_problems/blob/main/Find_Median_From_Data_Stream.ipynb\" target=\"_parent\"><img src=\"https://colab.research.google.com/assets/colab-badge.svg\" alt=\"Open In Colab\"/></a>"
      ]
    },
    {
      "cell_type": "code",
      "execution_count": null,
      "metadata": {
        "id": "3d9Cp9EEpXFw"
      },
      "outputs": [],
      "source": [
        "class MedianFinder():\n",
        "  def __init__(self):\n",
        "    self.left_max_heap = []\n",
        "    self.right_min_heap = []\n",
        "    self.median = 0\n",
        "\n",
        "  def addNum(self,num:int)-> None:\n",
        "    if num <= self.median:\n",
        "      #num should be added to the left_max\n",
        "      if len(self.left_max_heap) <= len(self.right_min_heap):\n",
        "        heappush(self.left_max_heap, -num)\n",
        "      else:\n",
        "        top = heappop(self.left_max_heap)\n",
        "        heappush(self.right_min_heap,-top)\n",
        "        heappush(self.left_max_heap,-num)\n",
        "    else:\n",
        "      #num should be added to the right_min\n",
        "      if len(self.left_max_heap) >= len(self.right_min_heap):\n",
        "        heappush(self.right_min_heap, num)\n",
        "      else:\n",
        "        top = heappop(self.right_min_heap)\n",
        "        heappush(self.left_max_heap,-top)\n",
        "        heappush(self.right_min_heap,num)\n",
        "\n",
        "    self.updateMedian()\n",
        "\n",
        "  def updateMedian(self):\n",
        "    if len(self.left_max_heap) == len(self.right_min_heap):\n",
        "      self.median = (float(-self.left_max_heap[0]) + float(self.right_min_heap[0])) / 2.0\n",
        "    elif len(self.left_max_heap) >= len(self.right_min_heap):\n",
        "      self.median = float(-self.left_max_heap[0])\n",
        "    else:\n",
        "      self.median = float(self.right_min_heap[0])\n",
        "\n",
        "\n",
        "  def findMedian(self) -> float:\n",
        "      return float(self.median)\n",
        "\n",
        "\n"
      ]
    },
    {
      "cell_type": "code",
      "source": [],
      "metadata": {
        "id": "n4Ke0Sgxvqbr"
      },
      "execution_count": null,
      "outputs": []
    }
  ]
}