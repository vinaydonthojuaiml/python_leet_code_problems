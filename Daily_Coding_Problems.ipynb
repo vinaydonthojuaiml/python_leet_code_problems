{
  "nbformat": 4,
  "nbformat_minor": 0,
  "metadata": {
    "colab": {
      "provenance": [],
      "authorship_tag": "ABX9TyOSpVYCgubYW87iHDDxuJeq",
      "include_colab_link": true
    },
    "kernelspec": {
      "name": "python3",
      "display_name": "Python 3"
    },
    "language_info": {
      "name": "python"
    }
  },
  "cells": [
    {
      "cell_type": "markdown",
      "metadata": {
        "id": "view-in-github",
        "colab_type": "text"
      },
      "source": [
        "<a href=\"https://colab.research.google.com/github/vinaydonthojuaiml/python_leet_code_problems/blob/main/Daily_Coding_Problems.ipynb\" target=\"_parent\"><img src=\"https://colab.research.google.com/assets/colab-badge.svg\" alt=\"Open In Colab\"/></a>"
      ]
    },
    {
      "cell_type": "code",
      "execution_count": 1,
      "metadata": {
        "id": "ATSD1mtX2bKL"
      },
      "outputs": [],
      "source": [
        "#Daily Coding Problem #36\n",
        "\n",
        "#This problem was asked by Dropbox.\n",
        "\n",
        "#Given the root to a binary search tree, find the second largest node in the tree.\n",
        "\n",
        "\n",
        "#Definition of a binary tree node\n",
        "\n",
        "class Treenode:\n",
        "  def __init__(self,x):\n",
        "    self.val = x\n",
        "    self.left = None\n",
        "    self.right = None\n",
        "\n",
        "class Solution:\n",
        "\n",
        "  def find_largest(self,root):\n",
        "    current = root\n",
        "    while current:\n",
        "      if not current.right:\n",
        "        return current.val\n",
        "      current = current.right\n",
        "\n",
        "\n",
        "  def find_second_largest(self,root):\n",
        "    if (root is None or root.left is None or root.right is None):\n",
        "      return ValueError(\"Tree must have at least 2 nodes\")\n",
        "\n",
        "    current = root\n",
        "\n",
        "    while current:\n",
        "\n",
        "      if current.left and not current.right:\n",
        "        return self.find_largest(current.left)\n",
        "\n",
        "      if (current.right and not current.right.left and not current.right.right):\n",
        "        return current.val\n",
        "\n",
        "      current = current.right\n",
        ""
      ]
    },
    {
      "cell_type": "code",
      "source": [
        "#Solution\n",
        "#An in-order traversal of the binary search tree would give us all the nodes of the tree in sorted order. So the naive solution here might be do an in-order traversal of the tree, store it in an array, and return the second-to-last element in the array.\n",
        "\n",
        "#This takes O(N) time and space since we have to go through and store every node in the tree.\n",
        "\n",
        "#We can do better. Notice that the in-order traversal explores always the left node first before the current node. We could do something similar to that by exploring the right node first.\n",
        "\n",
        "#Let's do a reverse in-order traversal, where we first call ourselves recursively on the right node. Because it's reversed, that should give us the binary tree in reverse sorted order.\n",
        "\n",
        "#So we can keep a counter, and once we start processing the current node we can increment the counter. Once it hits 2, that means the current node we're looking at is the second largest, so we can stuff it in a variable and eventually return that.\n",
        "\n",
        "\n",
        "def second_largest(root):\n",
        "  def inorder(node):\n",
        "    if not node or count[0] == 2:\n",
        "      return\n",
        "\n",
        "    if node.right:\n",
        "      inorder(node.right)\n",
        "\n",
        "    count[0] += 1\n",
        "    if count[0] == 2:\n",
        "      val.append(node.value)\n",
        "      return\n",
        "\n",
        "    if node.left:\n",
        "      inorder(node.left)\n",
        "\n",
        "  count = [0]\n",
        "  val = []\n",
        "  inorder(root)\n",
        "  return val[0]\n"
      ],
      "metadata": {
        "id": "fVG_s2bC6z7w"
      },
      "execution_count": 2,
      "outputs": []
    },
    {
      "cell_type": "code",
      "source": [],
      "metadata": {
        "id": "LE92LLC09ryh"
      },
      "execution_count": null,
      "outputs": []
    }
  ]
}