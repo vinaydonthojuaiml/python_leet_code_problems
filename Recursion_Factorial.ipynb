{
  "nbformat": 4,
  "nbformat_minor": 0,
  "metadata": {
    "colab": {
      "provenance": [],
      "authorship_tag": "ABX9TyN0Yo2dBvqRRVK8AYxOpYVM",
      "include_colab_link": true
    },
    "kernelspec": {
      "name": "python3",
      "display_name": "Python 3"
    },
    "language_info": {
      "name": "python"
    }
  },
  "cells": [
    {
      "cell_type": "markdown",
      "metadata": {
        "id": "view-in-github",
        "colab_type": "text"
      },
      "source": [
        "<a href=\"https://colab.research.google.com/github/vinaydonthojuaiml/python_leet_code_problems/blob/main/Recursion_Factorial.ipynb\" target=\"_parent\"><img src=\"https://colab.research.google.com/assets/colab-badge.svg\" alt=\"Open In Colab\"/></a>"
      ]
    },
    {
      "cell_type": "code",
      "execution_count": 2,
      "metadata": {
        "colab": {
          "base_uri": "https://localhost:8080/"
        },
        "id": "3-O1ElWszQUW",
        "outputId": "139df267-23e9-4980-d3cd-e2fd8e5a536e"
      },
      "outputs": [
        {
          "output_type": "execute_result",
          "data": {
            "text/plain": [
              "720"
            ]
          },
          "metadata": {},
          "execution_count": 2
        }
      ],
      "source": [
        "#Factorial\n",
        "\n",
        "def factorial(number):\n",
        "  if (number == 1):\n",
        "    return 1\n",
        "  return number * factorial(number-1)\n",
        "\n",
        "factorial(6)"
      ]
    },
    {
      "cell_type": "markdown",
      "source": [],
      "metadata": {
        "id": "PFk3i8sK0ck_"
      }
    },
    {
      "cell_type": "code",
      "source": [
        "def factorial_ForLoop(number):\n",
        "  result = 1\n",
        "  for i in range(1,number+1):\n",
        "    result = result * i\n",
        "  return result\n",
        "\n",
        "factorial_ForLoop(5)\n"
      ],
      "metadata": {
        "colab": {
          "base_uri": "https://localhost:8080/"
        },
        "id": "zdJL75IDzqBV",
        "outputId": "03f079e8-8d76-42c2-c0e6-c03ee8259be6"
      },
      "execution_count": 7,
      "outputs": [
        {
          "output_type": "execute_result",
          "data": {
            "text/plain": [
              "120"
            ]
          },
          "metadata": {},
          "execution_count": 7
        }
      ]
    },
    {
      "cell_type": "code",
      "source": [],
      "metadata": {
        "id": "QUacEJlI0IWm"
      },
      "execution_count": null,
      "outputs": []
    }
  ]
}