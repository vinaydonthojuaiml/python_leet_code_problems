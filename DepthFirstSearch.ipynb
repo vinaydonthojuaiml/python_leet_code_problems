{
  "nbformat": 4,
  "nbformat_minor": 0,
  "metadata": {
    "colab": {
      "provenance": [],
      "authorship_tag": "ABX9TyPgVwM813v6kQvukPle+kDU",
      "include_colab_link": true
    },
    "kernelspec": {
      "name": "python3",
      "display_name": "Python 3"
    },
    "language_info": {
      "name": "python"
    }
  },
  "cells": [
    {
      "cell_type": "markdown",
      "metadata": {
        "id": "view-in-github",
        "colab_type": "text"
      },
      "source": [
        "<a href=\"https://colab.research.google.com/github/vinaydonthojuaiml/python_leet_code_problems/blob/main/DepthFirstSearch.ipynb\" target=\"_parent\"><img src=\"https://colab.research.google.com/assets/colab-badge.svg\" alt=\"Open In Colab\"/></a>"
      ]
    },
    {
      "cell_type": "code",
      "execution_count": 6,
      "metadata": {
        "colab": {
          "base_uri": "https://localhost:8080/"
        },
        "id": "MTokPoKZ2OgB",
        "outputId": "ef9613e3-3ced-418a-bc5f-91086fa64c98"
      },
      "outputs": [
        {
          "output_type": "stream",
          "name": "stdout",
          "text": [
            "[1, 4, 6, 9, 15, 20, 170]\n"
          ]
        }
      ],
      "source": [
        "class Node:\n",
        "  def __init__(self,val):\n",
        "    self.val = val\n",
        "    self.left = None\n",
        "    self.right = None\n",
        "\n",
        "class BinarySearchTree:\n",
        "  def __init__(self):\n",
        "    self.root = None\n",
        "\n",
        "  def insert(self,val):\n",
        "    new_node = Node(val)\n",
        "    if self.root == None:\n",
        "      self.root = new_node\n",
        "      return\n",
        "    temp = self.root\n",
        "    while True:\n",
        "      if new_node.val < temp.val:\n",
        "        if temp.left == None:\n",
        "          temp.left = new_node\n",
        "          break\n",
        "        else:\n",
        "          temp = temp.left\n",
        "      elif new_node.val > temp.val:\n",
        "        if temp.right == None:\n",
        "          temp.right = new_node\n",
        "          break\n",
        "        else:\n",
        "          temp = temp.right\n",
        "\n",
        "  def lookup(self,val):\n",
        "    temp = self.root\n",
        "    while True:\n",
        "      if temp.val == val:\n",
        "        return True\n",
        "      elif temp == None:\n",
        "        return False\n",
        "      elif val < temp.val:\n",
        "        temp = temp.left\n",
        "      elif val > temp.val:\n",
        "        temp = temp.right\n",
        "\n",
        "  def inorder(self,currnode,mylist):\n",
        "    if currnode != None:\n",
        "      self.inorder(currnode.left,mylist)\n",
        "      mylist.append(currnode.val)\n",
        "      self.inorder(currnode.right,mylist)\n",
        "    return mylist\n",
        "\n",
        "  def preorder(self,currnode,mylist):\n",
        "    if currnode!=None:\n",
        "      mylist.append(currnode.val)\n",
        "      self.preorder(currnode.left,mylist)\n",
        "      self.preorder(currnode.right,mylist)\n",
        "    return mylist\n",
        "\n",
        "\n",
        "  def postorder(self,currnode,mylist):\n",
        "    if currnode.left:\n",
        "      self.postorder(currnode.left,mylist)\n",
        "    if currnode.right:\n",
        "      self.postorder(currnode.right,mylist)\n",
        "    mylist.append(currnode.val)\n",
        "    return mylist\n",
        "\n",
        "\n",
        "\n",
        "\n",
        "tree = BinarySearchTree()\n",
        "tree.insert(9)\n",
        "tree.insert(4)\n",
        "tree.insert(6)\n",
        "tree.insert(20)\n",
        "tree.insert(170)\n",
        "tree.insert(15)\n",
        "tree.insert(1)\n",
        "print(tree.inorder(tree.root,[]))\n",
        "print(tree.preorder(tree.root,[]))\n",
        "print(tree.postorder(tree.root,[]))"
      ]
    },
    {
      "cell_type": "code",
      "source": [],
      "metadata": {
        "id": "BtjRXkRd5j-l"
      },
      "execution_count": null,
      "outputs": []
    }
  ]
}