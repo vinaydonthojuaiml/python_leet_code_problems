{
  "nbformat": 4,
  "nbformat_minor": 0,
  "metadata": {
    "colab": {
      "provenance": [],
      "authorship_tag": "ABX9TyMKHkwP7RyX51qJRLvfmO5B",
      "include_colab_link": true
    },
    "kernelspec": {
      "name": "python3",
      "display_name": "Python 3"
    },
    "language_info": {
      "name": "python"
    }
  },
  "cells": [
    {
      "cell_type": "markdown",
      "metadata": {
        "id": "view-in-github",
        "colab_type": "text"
      },
      "source": [
        "<a href=\"https://colab.research.google.com/github/vinaydonthojuaiml/python_leet_code_problems/blob/main/Dynamic_Programming_Memoization.ipynb\" target=\"_parent\"><img src=\"https://colab.research.google.com/assets/colab-badge.svg\" alt=\"Open In Colab\"/></a>"
      ]
    },
    {
      "cell_type": "code",
      "execution_count": null,
      "metadata": {
        "colab": {
          "base_uri": "https://localhost:8080/"
        },
        "id": "2Lv3kDmK3JNC",
        "outputId": "e4197ba5-3934-494c-c669-efe862debbed"
      },
      "outputs": [
        {
          "output_type": "stream",
          "name": "stdout",
          "text": [
            "Long Time\n",
            "85\n",
            "Long Time\n",
            "85\n"
          ]
        }
      ],
      "source": [
        "def add80(n):\n",
        "  print('Long Time')\n",
        "  return n+80\n",
        "\n",
        "print(add80(5))\n",
        "print(add80(5))"
      ]
    },
    {
      "cell_type": "code",
      "source": [
        "#Memoization 1\n",
        "\n",
        "cache = {}\n",
        "\n",
        "def memoizedadd80(n):\n",
        "  if n in cache:\n",
        "    return n + 80\n",
        "  else:\n",
        "    print('Long Time')\n",
        "    cache[n] = n+80\n",
        "    return cache[n]\n",
        "\n",
        "print(memoizedadd80(6))\n",
        "print(memoizedadd80(6))"
      ],
      "metadata": {
        "colab": {
          "base_uri": "https://localhost:8080/"
        },
        "id": "Xj6fQCpa3eTz",
        "outputId": "b5d7f1f2-1894-4aae-9b33-a8f5fcd73fee"
      },
      "execution_count": null,
      "outputs": [
        {
          "output_type": "stream",
          "name": "stdout",
          "text": [
            "Long Time\n",
            "86\n",
            "86\n"
          ]
        }
      ]
    },
    {
      "cell_type": "code",
      "source": [
        "# Memoization 2\n",
        "\n",
        "def memoizedadd80():\n",
        "  cache = {}\n",
        "\n",
        "  def memoized(n):\n",
        "    if n in cache:\n",
        "      return n+80\n",
        "    else:\n",
        "      print('Long Time')\n",
        "      cache[n] = n+80\n",
        "      return cache[n]\n",
        "  return memoized\n",
        "\n",
        "memo = memoizedadd80()\n",
        "\n",
        "print(memo(8))\n",
        "print(memo(8))"
      ],
      "metadata": {
        "colab": {
          "base_uri": "https://localhost:8080/"
        },
        "id": "qvxXRZgD4Erb",
        "outputId": "3d4067e1-abba-4692-d547-0e9aa8a47e41"
      },
      "execution_count": null,
      "outputs": [
        {
          "output_type": "stream",
          "name": "stdout",
          "text": [
            "Long Time\n",
            "88\n",
            "88\n"
          ]
        }
      ]
    },
    {
      "cell_type": "code",
      "source": [
        "# Fibonacci - DP\n",
        "\n",
        "from functools import lru_cache\n",
        "\n",
        "@lru_cache(maxsize = 1000) #Time Complexity - O(2^n)\n",
        "def fib(n):\n",
        "  if n < 2:\n",
        "    return n\n",
        "  else:\n",
        "    return fib(n-1) + fib(n-2)\n",
        "\n",
        "print(fib(10))\n",
        "print(fib.cache_info)"
      ],
      "metadata": {
        "id": "zeI9Npwx5y-V",
        "colab": {
          "base_uri": "https://localhost:8080/"
        },
        "outputId": "a1af6030-bd96-40af-a883-5b888e5b804f"
      },
      "execution_count": 3,
      "outputs": [
        {
          "output_type": "stream",
          "name": "stdout",
          "text": [
            "55\n",
            "<built-in method cache_info of functools._lru_cache_wrapper object at 0x7e4db72d9010>\n"
          ]
        }
      ]
    },
    {
      "cell_type": "code",
      "source": [
        "# Implement with cache\n",
        "\n",
        "cache = {}\n",
        "\n",
        "def fib(n):  #Time Complexity - O(n)\n",
        "  if n in cache:\n",
        "    return cache[n]\n",
        "  elif n < 2:\n",
        "    cache[n] = n\n",
        "    return cache[n]\n",
        "  else:\n",
        "    cache[n] = fib(n-1) + fib(n-2)\n",
        "    return cache[n]\n",
        "\n",
        "x = fib(18)\n",
        "print(cache)\n",
        "print(x)\n",
        "print(\"Count\",count)"
      ],
      "metadata": {
        "colab": {
          "base_uri": "https://localhost:8080/"
        },
        "id": "uLUE2IHj_jmR",
        "outputId": "afa08d1d-e4ac-42c0-d648-4501e3607fb2"
      },
      "execution_count": 14,
      "outputs": [
        {
          "output_type": "stream",
          "name": "stdout",
          "text": [
            "{1: 1, 0: 0, 2: 1, 3: 2, 4: 3, 5: 5, 6: 8, 7: 13, 8: 21, 9: 34, 10: 55, 11: 89, 12: 144, 13: 233, 14: 377, 15: 610, 16: 987, 17: 1597, 18: 2584}\n",
            "2584\n",
            "Count 0\n"
          ]
        }
      ]
    },
    {
      "cell_type": "code",
      "source": [
        "# Bottom Up\n",
        "\n",
        "def fibonacci2(n):\n",
        "  result = [0,1]\n",
        "  for i in range(2, n):\n",
        "    result.append(result[i-1]+result[i-2])\n",
        "  return result.pop()\n",
        "\n",
        "print(fibonacci2(4))"
      ],
      "metadata": {
        "colab": {
          "base_uri": "https://localhost:8080/"
        },
        "id": "Oc-Tf7B2AWhA",
        "outputId": "9dde0b01-3a30-4e1f-9d4a-f5384add5531"
      },
      "execution_count": 19,
      "outputs": [
        {
          "output_type": "stream",
          "name": "stdout",
          "text": [
            "2\n"
          ]
        }
      ]
    },
    {
      "cell_type": "code",
      "source": [],
      "metadata": {
        "id": "T-laUjuXFIR9"
      },
      "execution_count": null,
      "outputs": []
    }
  ]
}