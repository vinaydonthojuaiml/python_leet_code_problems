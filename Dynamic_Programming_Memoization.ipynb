{
  "nbformat": 4,
  "nbformat_minor": 0,
  "metadata": {
    "colab": {
      "provenance": [],
      "authorship_tag": "ABX9TyP5OKiNaIAxdPunlCQz5gks",
      "include_colab_link": true
    },
    "kernelspec": {
      "name": "python3",
      "display_name": "Python 3"
    },
    "language_info": {
      "name": "python"
    }
  },
  "cells": [
    {
      "cell_type": "markdown",
      "metadata": {
        "id": "view-in-github",
        "colab_type": "text"
      },
      "source": [
        "<a href=\"https://colab.research.google.com/github/vinaydonthojuaiml/python_leet_code_problems/blob/main/Dynamic_Programming_Memoization.ipynb\" target=\"_parent\"><img src=\"https://colab.research.google.com/assets/colab-badge.svg\" alt=\"Open In Colab\"/></a>"
      ]
    },
    {
      "cell_type": "code",
      "execution_count": 1,
      "metadata": {
        "colab": {
          "base_uri": "https://localhost:8080/"
        },
        "id": "2Lv3kDmK3JNC",
        "outputId": "e4197ba5-3934-494c-c669-efe862debbed"
      },
      "outputs": [
        {
          "output_type": "stream",
          "name": "stdout",
          "text": [
            "Long Time\n",
            "85\n",
            "Long Time\n",
            "85\n"
          ]
        }
      ],
      "source": [
        "def add80(n):\n",
        "  print('Long Time')\n",
        "  return n+80\n",
        "\n",
        "print(add80(5))\n",
        "print(add80(5))"
      ]
    },
    {
      "cell_type": "code",
      "source": [
        "#Memoization 1\n",
        "\n",
        "cache = {}\n",
        "\n",
        "def memoizedadd80(n):\n",
        "  if n in cache:\n",
        "    return n + 80\n",
        "  else:\n",
        "    print('Long Time')\n",
        "    cache[n] = n+80\n",
        "    return cache[n]\n",
        "\n",
        "print(memoizedadd80(6))\n",
        "print(memoizedadd80(6))"
      ],
      "metadata": {
        "colab": {
          "base_uri": "https://localhost:8080/"
        },
        "id": "Xj6fQCpa3eTz",
        "outputId": "b5d7f1f2-1894-4aae-9b33-a8f5fcd73fee"
      },
      "execution_count": 2,
      "outputs": [
        {
          "output_type": "stream",
          "name": "stdout",
          "text": [
            "Long Time\n",
            "86\n",
            "86\n"
          ]
        }
      ]
    },
    {
      "cell_type": "code",
      "source": [
        "# Memoization 2\n",
        "\n",
        "def memoizedadd80():\n",
        "  cache = {}\n",
        "\n",
        "  def memoized(n):\n",
        "    if n in cache:\n",
        "      return n+80\n",
        "    else:\n",
        "      print('Long Time')\n",
        "      cache[n] = n+80\n",
        "      return cache[n]\n",
        "  return memoized\n",
        "\n",
        "memo = memoizedadd80()\n",
        "\n",
        "print(memo(8))\n",
        "print(memo(8))"
      ],
      "metadata": {
        "colab": {
          "base_uri": "https://localhost:8080/"
        },
        "id": "qvxXRZgD4Erb",
        "outputId": "3d4067e1-abba-4692-d547-0e9aa8a47e41"
      },
      "execution_count": 4,
      "outputs": [
        {
          "output_type": "stream",
          "name": "stdout",
          "text": [
            "Long Time\n",
            "88\n",
            "88\n"
          ]
        }
      ]
    },
    {
      "cell_type": "code",
      "source": [],
      "metadata": {
        "id": "zeI9Npwx5y-V"
      },
      "execution_count": null,
      "outputs": []
    }
  ]
}