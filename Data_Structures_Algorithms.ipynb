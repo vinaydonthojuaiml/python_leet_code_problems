{
  "nbformat": 4,
  "nbformat_minor": 0,
  "metadata": {
    "colab": {
      "provenance": [],
      "authorship_tag": "ABX9TyNZtgfjjX2EIgSP5nurbx0L",
      "include_colab_link": true
    },
    "kernelspec": {
      "name": "python3",
      "display_name": "Python 3"
    },
    "language_info": {
      "name": "python"
    }
  },
  "cells": [
    {
      "cell_type": "markdown",
      "metadata": {
        "id": "view-in-github",
        "colab_type": "text"
      },
      "source": [
        "<a href=\"https://colab.research.google.com/github/vinaydonthojuaiml/python_leet_code_problems/blob/main/Data_Structures_Algorithms.ipynb\" target=\"_parent\"><img src=\"https://colab.research.google.com/assets/colab-badge.svg\" alt=\"Open In Colab\"/></a>"
      ]
    },
    {
      "cell_type": "code",
      "execution_count": 4,
      "metadata": {
        "colab": {
          "base_uri": "https://localhost:8080/"
        },
        "id": "YFhefp6_dMD2",
        "outputId": "a24ae9a2-0fea-47da-b12f-bf7698fec28b"
      },
      "outputs": [
        {
          "output_type": "stream",
          "name": "stdout",
          "text": [
            "None\n"
          ]
        }
      ],
      "source": [
        "#We need to write a program to find the position of a given number in a list of numbers\n",
        "#arranged in decreasing order. We also need to minimize the number of times we access elements from the list.\n",
        "\n",
        "cards = [13,11,10,7,4,3,1,0]\n",
        "query = 7\n",
        "output = 3\n",
        "\n",
        "def locate_card(cards,query):\n",
        "  pass\n",
        "\n",
        "result = locate_card(cards,query)\n",
        "print(result)\n",
        "\n"
      ]
    },
    {
      "cell_type": "code",
      "source": [
        "result==output"
      ],
      "metadata": {
        "colab": {
          "base_uri": "https://localhost:8080/"
        },
        "id": "HPTuvTNpkitz",
        "outputId": "aa092e90-f013-40b9-b9f1-303fd8503edf"
      },
      "execution_count": 5,
      "outputs": [
        {
          "output_type": "execute_result",
          "data": {
            "text/plain": [
              "False"
            ]
          },
          "metadata": {},
          "execution_count": 5
        }
      ]
    },
    {
      "cell_type": "code",
      "source": [
        "test= {\n",
        "    'input' : {\n",
        "        'cards' : [13,11,10,7,4,3,1,0],\n",
        "        'query' : 7\n",
        "    },\n",
        "    'output' : 3\n",
        "}"
      ],
      "metadata": {
        "id": "7a23U2lSkBgr"
      },
      "execution_count": 3,
      "outputs": []
    },
    {
      "cell_type": "code",
      "source": [
        "#locate_card(test['input']['cards'], test['input']['query']) == test['output']\n",
        "locate_card(**test['input'])==test['output']"
      ],
      "metadata": {
        "colab": {
          "base_uri": "https://localhost:8080/"
        },
        "id": "YkPfT4hakgtQ",
        "outputId": "6ea684f2-db1f-4a32-a1fd-9c8bd97d99d4"
      },
      "execution_count": 12,
      "outputs": [
        {
          "output_type": "execute_result",
          "data": {
            "text/plain": [
              "False"
            ]
          },
          "metadata": {},
          "execution_count": 12
        }
      ]
    },
    {
      "cell_type": "code",
      "source": [
        "tests = []"
      ],
      "metadata": {
        "id": "UcXT7Ue8lGP0"
      },
      "execution_count": 13,
      "outputs": []
    },
    {
      "cell_type": "code",
      "source": [
        "#query occurs in the middle\n",
        "tests.append(test)\n",
        "\n",
        "tests.append({\n",
        "      'input' : {\n",
        "        'cards' : [13,11,10,7,4,3,1,0],\n",
        "        'query' : 1\n",
        "    },\n",
        "    'output' : 6\n",
        "})"
      ],
      "metadata": {
        "id": "gtqdcggqmzwm"
      },
      "execution_count": 14,
      "outputs": []
    },
    {
      "cell_type": "code",
      "source": [
        "#query is the first element\n",
        "tests.append({\n",
        "      'input' : {\n",
        "        'cards' : [4,2,1,-1],\n",
        "        'query' : 4\n",
        "    },\n",
        "    'output' : 0\n",
        "})"
      ],
      "metadata": {
        "id": "HQZ7DP9UnIJd"
      },
      "execution_count": 15,
      "outputs": []
    },
    {
      "cell_type": "code",
      "source": [
        "#query is the last element\n",
        "tests.append({\n",
        "      'input' : {\n",
        "        'cards' : [3,-1,-9,-127],\n",
        "        'query' : -127\n",
        "    },\n",
        "    'output' : 3\n",
        "})"
      ],
      "metadata": {
        "id": "pcYJ4nZIngbv"
      },
      "execution_count": 16,
      "outputs": []
    },
    {
      "cell_type": "code",
      "source": [
        "#cards contain just one element, query\n",
        "\n",
        "tests.append({\n",
        "      'input' : {\n",
        "        'cards' : [6],\n",
        "        'query' : 6\n",
        "    },\n",
        "    'output' : 0\n",
        "})"
      ],
      "metadata": {
        "id": "1oOLlDUZnv26"
      },
      "execution_count": 17,
      "outputs": []
    },
    {
      "cell_type": "code",
      "source": [
        "#If cards does not contain query, we assume it will return as -1\n",
        "\n",
        "tests.append({\n",
        "      'input' : {\n",
        "        'cards' : [4,2,1,-1],\n",
        "        'query' : 6\n",
        "    },\n",
        "    'output' : -1\n",
        "})"
      ],
      "metadata": {
        "id": "AYqwcPgqn3ag"
      },
      "execution_count": 18,
      "outputs": []
    },
    {
      "cell_type": "code",
      "source": [
        "# If the card is empty\n",
        "\n",
        "tests.append({\n",
        "      'input' : {\n",
        "        'cards' : [],\n",
        "        'query' : 4\n",
        "    },\n",
        "    'output' : -1\n",
        "})"
      ],
      "metadata": {
        "id": "3AVacQxqodhS"
      },
      "execution_count": 19,
      "outputs": []
    },
    {
      "cell_type": "code",
      "source": [
        "#numbers can repeat in cards\n",
        "tests.append({\n",
        "      'input' : {\n",
        "        'cards' : [8,8,6,6,6,6,6,3,2,2,2,0,0,0],\n",
        "        'query' : 3\n",
        "    },\n",
        "    'output' : 7\n",
        "})"
      ],
      "metadata": {
        "id": "KHUmrTc6on3H"
      },
      "execution_count": 20,
      "outputs": []
    },
    {
      "cell_type": "code",
      "source": [
        "#query occurs multiple times\n",
        "tests.append({\n",
        "      'input' : {\n",
        "        'cards' : [8,8,6,6,6,6,6,6,3,2,2,2,0,0,0],\n",
        "        'query' : 6\n",
        "    },\n",
        "    'output' : 2\n",
        "})"
      ],
      "metadata": {
        "id": "fhzq3l5-o_qd"
      },
      "execution_count": 21,
      "outputs": []
    },
    {
      "cell_type": "code",
      "source": [],
      "metadata": {
        "id": "722giDaYpQhf"
      },
      "execution_count": null,
      "outputs": []
    }
  ]
}